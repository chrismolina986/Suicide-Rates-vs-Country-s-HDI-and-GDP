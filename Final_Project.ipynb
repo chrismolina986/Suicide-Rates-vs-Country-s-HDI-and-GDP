{
  "nbformat": 4,
  "nbformat_minor": 0,
  "metadata": {
    "colab": {
      "name": "Final Project.ipynb",
      "provenance": [],
      "collapsed_sections": [
        "4m1YQERn8m3s",
        "FC8XktHs-0LV",
        "FkZ9gZeijBkr",
        "oucziH9ag48L",
        "lDyQ_VBNBmRY",
        "L9sH1KgBcxXT"
      ]
    },
    "kernelspec": {
      "name": "python3",
      "display_name": "Python 3"
    },
    "accelerator": "GPU"
  },
  "cells": [
    {
      "cell_type": "markdown",
      "metadata": {
        "id": "7RFX3BQx8c22"
      },
      "source": [
        "\n",
        "\n",
        "# Please grade our assignment using the following link: [final_JARC](https://colab.research.google.com/drive/1zAXJE-x00t08S9S2v3WQFUQGLCMrkN4V)\n",
        "\n",
        "https://colab.research.google.com/drive/1zAXJE-x00t08S9S2v3WQFUQGLCMrkN4V\n",
        "\n",
        "\n"
      ]
    },
    {
      "cell_type": "markdown",
      "metadata": {
        "id": "r9tOPqW5SMHW"
      },
      "source": [
        "# <font color=\" #347C98\">Final Project</font>\n"
      ]
    },
    {
      "cell_type": "markdown",
      "metadata": {
        "id": "_9WdyAAhSQ6q"
      },
      "source": [
        "<font color=\" #347C98\">At this point in the course, you've submitted four assignments related to your team's data science project. Now, it's time to put it all together.<br> <br> \n",
        "​\n",
        "For your final project, you'll be sharing your data science project start to finish. You'll combine your previous assignments while making changes to improve previous submissions. In addition to improving and editing your previos submissions and including the sections you've previously submitted, you'll add the following three sections in this final submission:\n",
        "  \n",
        "1. **Background** \n",
        "2. **Summary** \n",
        "3. **Contributions** <br><br>"
      ]
    },
    {
      "cell_type": "markdown",
      "metadata": {
        "id": "Xr4_e-ZDSolQ"
      },
      "source": [
        "# <font color=\" #347C98\"> Instructions </font>\n"
      ]
    },
    {
      "cell_type": "markdown",
      "metadata": {
        "id": "LxuiHS8wSrgc"
      },
      "source": [
        "<font color=\" #347C98\"> Teams should troubleshoot these steps with the teaching staff well before the deadline during sections, office hours, on Piazza, or in lecture.</font>\n",
        "\n",
        "1.   <font color=\" #347C98\"> Each team must make a copy of this iPython notebook into their own Google Drive folder. It is probably best to add this to the same Drive folder used for the first two assignments. </font>\n",
        "2.   <font color=\" #347C98\"> Once the assignment is copied, teams will edit it as a team using the Colaboratory app and fill in their answers below. Make sure your answers are clearly indicated and easy to read.</font>\n",
        "3. <font color=\" #347C98\"> Upon completing the assignment, *one* team member must print the completed assignment to a PDF version and upload the PDF to Gradescope on behalf of the team. If you want your grader to grade your Colaboratory notebook, be sure to edit the cell at the top of the notebook. <b> Every team member must be indicated as a member of the team upon submission. <b> </font>"
      ]
    },
    {
      "cell_type": "markdown",
      "metadata": {
        "id": "Xz0se9FV7LBh"
      },
      "source": [
        "# <font color=\" #347C98\"> Team Info </font>"
      ]
    },
    {
      "cell_type": "markdown",
      "metadata": {
        "id": "IC0BQsbZ7NmK"
      },
      "source": [
        "## <font color=\"#66B032\">Example</font>\n",
        "<font color=\"#66B032\">Team Members: Donald Trump, Kim Kardashian, Demi Lovato, Beyonce, Oprah Winfrey <br>\n",
        "Team Name: Flying Mongooses <br>\n",
        "Section Number: A01</font>"
      ]
    },
    {
      "cell_type": "markdown",
      "metadata": {
        "id": "i1APVTmC7TmQ"
      },
      "source": [
        "## Answer (double click here to edit)\n",
        "\n",
        "Team Members: Jose Ayala, Aurelio Barrios, Robert Chang-Koepp, Chris Molina\n",
        "\n",
        "Team Name: JARC\n",
        "\n",
        "Section Number: A05"
      ]
    },
    {
      "cell_type": "markdown",
      "metadata": {
        "id": "WAzDcmxfBLc1"
      },
      "source": [
        "#  <font color=\"#347C98\">Question</font>\n",
        "\n"
      ]
    },
    {
      "cell_type": "markdown",
      "metadata": {
        "id": "wSXqpNSTgODs"
      },
      "source": [
        "<font color=\" #347C98\">\n",
        "\n",
        "Clearly state the specific data science question you're interested in answering below. Also posit a speculative answer, i.e. hypothesis, to your question and provide justification how you came to this hypothesis.<br><br>\n",
        "\n",
        "You can update and improve this question from what you submitted for the first assignment. You are expected to to incorporate feedback from your TA/IA.<br><br>\n",
        "\n",
        "<b>1 pt</b>  \n",
        "\n",
        "</font>"
      ]
    },
    {
      "cell_type": "markdown",
      "metadata": {
        "id": "DwjmNXT97icU"
      },
      "source": [
        "##<font color=\"#66B032\">Example</font>\n",
        "<font color=\"#66B032\">\n",
        "Our data science question is: Is swimming a healthier exercise than running? <br>\n",
        "Our hypothesis is that swimming is a healthier exercise because it is well-known to be low-impact, forces better breath regulation, and is a full-body exercise.\n",
        "</font>"
      ]
    },
    {
      "cell_type": "markdown",
      "metadata": {
        "id": "lmOs3jGK7QgY"
      },
      "source": [
        "## Answer (double click here to edit)\n",
        "\n",
        "Our data science question is... Do countries with a lower Human Development Index and Gross Domestic Product suffer more suicides than countries with a higher Human Development Index and Gross Domestic Product?\n",
        "\n",
        "Our hypothesis is...Our hypothesis is that countries with a lower Human Development Index and Gross Domestic Product suffer from more suicides than countries with a higher Human Development Index and Gross Domestic Product due to having less opportunities that require economic capital."
      ]
    },
    {
      "cell_type": "markdown",
      "metadata": {
        "id": "BReXSqXP9RET"
      },
      "source": [
        "#<font color=\"#347C98\">Background</font>\n",
        "\n",
        "<font color=\" #347C98\">\n",
        "Include an introduction to your project. Be sure to cite your sources using either hyperlinks or formal citations.<br><br>\n",
        "\n",
        "Specifically, discuss the background and context of the problem you are addressing, what others have already done, as well as why you think it is interesting and/or useful for either yourself/your group, or the general public. Include citations for all external references.<br><br>\n",
        "\n",
        "<b>3 pts</b>\n",
        "</font>\n"
      ]
    },
    {
      "cell_type": "markdown",
      "metadata": {
        "id": "9jCIkS2B9HCf"
      },
      "source": [
        "##<font color=\"#66B032\">Example</font>\n",
        "<font color=\"#66B032\">\n",
        "We're interested in whether swimming is a healther exercise than running because a lot of us really enjoy running, but, we've heard that as we age, running can be brutal on our joints, while swimming is less so. There are a number of reports that state that <a href=\"https://myswimpro.com/blog/2016/09/19/12-reasons-why-swimming-is-better-than-running/\"> \"Swimming Is Better Than Running\"</a>, but often these are articles written by swimming groups, so we weren't sure exactly how reliable they are. Others have started to ask this question, but most studies we found dealt with whether swimmers are runners are more efficient, like in this<a href=\"https://www.nytimes.com/1993/04/21/health/run-vs-swim-statistician-says-the-score-is-in.html\">  New York Times article</a>, rather than whether their overall health is better or their lifespan longer. While it would be ideal to study  individuals who run and who swim over time, measure the pain or damage in their joints, check their heart health, and ask how they feel overall over time to answer this question, we know that won't be possible in this project. So, we set out to use data on Olympic athletes who competed in either swimming or Athletics (Track & Field) events.\n"
      ]
    },
    {
      "cell_type": "markdown",
      "metadata": {
        "id": "Y_eh4CBI9ZfW"
      },
      "source": [
        "## Answer\n",
        "We were interested in finding how the wellness of a country determined by the Human Development Index (HDI) and Gross Domestic Product (GDP) affected suicide rates of the inhabitants of that country. There were many articles like “[Relationship between suicide rate and economic growth and stock market in the People’s Republic of China: 2004–2013](https://www.ncbi.nlm.nih.gov/pmc/articles/PMC5153284/)” that briefly mention Gross Domestic Product (GDP) and its relationship with suicide rates but we found that these studies could be analyzed better using data from different countries rather than focusing in on one country. We also thought it was important to incorporate the Human Development Index (HDI) into our analysis since HDI is a statistical composite index of life expectancy, education, and per capita income indicators, that ranks countries in terms of human development. The Human Development Index is a great indicator of an individuals well being based off the country the individual lives in. It is always important to learn about factors that may contribute to tragic incidents like suicide which is why we were inspired to ask this question and carry out this project. \n"
      ]
    },
    {
      "cell_type": "markdown",
      "metadata": {
        "id": "X-0nim6FBRr4"
      },
      "source": [
        "# <font color=\"#347C98\">Data Source</font>"
      ]
    },
    {
      "cell_type": "markdown",
      "metadata": {
        "id": "vfOTK2iLgTPY"
      },
      "source": [
        "\n",
        "<font color=\"#347C98\">Identify a dataset that you will use to answer this question. Include the source / a link to the dataset in this section of your project  and explain a little bit about the data, including things like how many observations there are and what variables in the dataset are of interest to you for the purposes of answering your question of interest.<br><br>\n",
        "  \n",
        "Incorporate feedback provided to you by your TA/IA from the previous assignment.<br><br>\n",
        "\n",
        "<b>1 pt</b>\n",
        "</font>\n"
      ]
    },
    {
      "cell_type": "markdown",
      "metadata": {
        "id": "4m1YQERn8m3s"
      },
      "source": [
        "## <font color=\"#66B032\">Example</font>\n"
      ]
    },
    {
      "cell_type": "markdown",
      "metadata": {
        "id": "Gb0-XvUChAId"
      },
      "source": [
        "\n",
        "<font color=\"#66B032\"> Our dataset has 120 years worth of data for the Olympic games. We found it on Kaggle here: https://www.kaggle.com/heesoo37/120-years-of-olympic-history-athletes-and-results. We downloaded the csv file from Kaggle and uploaded it to our drive folder to be viewed in Google Sheets here: https://docs.google.com/spreadsheets/d/1oMgIh22Mib1FNVYCT5pQmKOWzwsh-Xjb2IfXaUAXTvA/edit#gid=1554884236. We made sure the Google Sheet is publicly available for the graders to view. <br><br>\n",
        "  \n",
        "According to Kaggle, the dataset has about 271,000 observations. Each observation is a combination of an athlete's name and the particular event they participated in. Other variables include information about the athlete like sex, age, height, weight, the country they represent, which season, year, and location of the games the athlete was attending, as well as the event and what type of medal they won.<br><br>\n",
        "  \n",
        "We will probably not use all of the variables to answer our research question, but there are other questions we can answer like what the distribution of demographics are across sports. We might also find ways to reduce the size of the dataset to make it more managable to work with by filtering out certain years or only looking at observations pertaining to medals won.<br><br>\n",
        "  \n",
        "Lastly, we plan on cross-referencing the filtered data in this csv and adding a variable for year of death for the particular athlete. We will manually retrieve this information from Wikipedia, or we might try to scrape this information from Wikipedia. </font>\n"
      ]
    },
    {
      "cell_type": "markdown",
      "metadata": {
        "id": "ba4lcpFwAYV_"
      },
      "source": [
        "## Answer (double click to edit)\n",
        "Our dataset has 32 years worth of data for the Suicide rates. We found it on Kaggle here: https://www.kaggle.com/russellyates88/suicide-rates-overview-1985-to-2016. We downloaded the csv le from Kaggle and uploaded it to our drive folder to be viewed in Google Sheets here: https://drive.google.com/le/d/1L2c-HsfGA63ChfcrOIOBeewTer63XFOf/view?usp=sharing. We made sure the Google Sheet is publicly available for the graders to view. According to Kaggle, the dataset has about 27.8k observations. Each observation is a combination of an a country and the year the data was pulled, and the suicide rates of either males / females in a particular age group. Other variables include information about the HDI, GDP, and the generation of that data group. We will probably not use all of the variables to answer our research question, but there are other questions we can answer like if different generations have different suicide rates. We might also nd ways to reduce the size of the dataset to make it more managable to work with by ltering out certain countries to nd trends within a particular nation.\n"
      ]
    },
    {
      "cell_type": "markdown",
      "metadata": {
        "id": "6Jgg7CXeBR8G"
      },
      "source": [
        "# <font color=\"#347C98\"> Ethical Considerations </font>\n",
        "\n",
        "\n"
      ]
    },
    {
      "cell_type": "markdown",
      "metadata": {
        "id": "rM9NJPC8iFf6"
      },
      "source": [
        "<font color=\"#347C98\">\n",
        "Include the ethical considerations from your prevoius assignments. Feel free to improve them. Iincorporate any TA/IA feedback you were provided. <br><br>\n",
        "\n",
        "<b> 1 pt </b> </font>"
      ]
    },
    {
      "cell_type": "markdown",
      "metadata": {
        "id": "FC8XktHs-0LV"
      },
      "source": [
        "## <font color=\"#66B032\">Example</font>\n",
        "\n"
      ]
    },
    {
      "cell_type": "markdown",
      "metadata": {
        "id": "YZbIm8m1iOEH"
      },
      "source": [
        "\n",
        "### <font color=\"#66B032\">Data Collection \n",
        "  \n",
        "We are not directly collecting the data, since they are available publicly on the web. Considering these are world-renowned athletes, they implicitly provide consent to make the Olympic data available to anyone. On the other hand, their deaths are also a sensitive subject, so we will make sure to remove athlete names before continuing.</font>\n",
        "### <font color=\"#66B032\">Data Storage\n",
        "The dataset is publicly available and when we update the dataset with death information, it will be stored within our Google Drive folder, where it is presumably safe, since Google Drive folders are only accessible to those explicitly granted access.\n",
        "</font>\n",
        "### <font color=\"#66B032\">Analysis\n",
        "All of our analysis visualizations will not have any PII. We also acknowledge the bias of this dataset toward only looking at Olympic athletes. We will be careful in generalizing our results to the typical person.\n",
        "</font>\n",
        "### <font color=\"#66B032\">Modeling\n",
        "We will likely use additional variables such as sex, age, country of origin, etc., in addition to comparing swimming vs. running. We will be careful not to let the results we find support discriminatory interpretations by drawing equal comparisons among the different groups.\n",
        "</font>\n",
        "### <font color=\"#66B032\">Deployment\n",
        "If our results have potential harmful or discrimatory implications, we will try to find different variables to model or exclude certain variables altogether. This would also help with concept drift, anyway.\n",
        "</font>\n",
        "\n",
        "### <font color=\"#66B032\">Other (optional)\n",
        "If we do some web scraping from wikipedia, we will make sure not to do it in an intensive way so as not to overburden their servers.\n",
        "</font>"
      ]
    },
    {
      "cell_type": "markdown",
      "metadata": {
        "id": "CF3_7qrX-2y0"
      },
      "source": [
        "## Answer (double click to edit)\n",
        "\n",
        "### Data Collection \n",
        "We are not directly collecting the data, since they are available publicly on the web. The data given to us is\n",
        "drawn mostly from a dataset of the WHO. The data is already anonymized, so we do not need to consider\n",
        "any cases of exposure.\n",
        "\n",
        "### Data Storage\n",
        "We are storing our data on Google Drive, which can only be accessed by those invited to the file. We are relying\n",
        "on Google's own security.\n",
        "\n",
        "### Analysis\n",
        "We understand that Suicide is a touchy subject, rightfully so. We will do our best not to make any sweeping\n",
        "generalizations, and focus only one the conclusions that we can draw from the given data.\n",
        "\n",
        "### Modeling\n",
        "We will rely on using variables like age, sex and number of suicides. We will draw fair results across\n",
        "different age groups, without drawing discriminatory results based on a certain variable.\n",
        "\n",
        "### Deployment\n",
        "In the case that our findings result in harmful or prejudicial assumptions, we will attempt to find other\n",
        "variables to model or avoid certain variables altogether such as . Doing so would also help with the evolving data set. \n",
        "\n",
        "### Other (optional)\n"
      ]
    },
    {
      "cell_type": "markdown",
      "metadata": {
        "id": "7dPzT6QFhzsB"
      },
      "source": [
        "#<font color=\"#347C98\">Importing Data</font>\n",
        "\n"
      ]
    },
    {
      "cell_type": "markdown",
      "metadata": {
        "id": "bN_MERfyivdr"
      },
      "source": [
        "<font color=\"#347C98\"> Include your code below to read the dataset into this notebook. Be sure this code includes comments and well-named variables.<br><br>\n",
        "  \n",
        "Incorporate feedback provided to you by your TA/IA from the previous assignment.<br><br>\n",
        "  \n",
        "<b>1 pt</b>\n",
        "</font>"
      ]
    },
    {
      "cell_type": "markdown",
      "metadata": {
        "id": "FkZ9gZeijBkr"
      },
      "source": [
        "## <font color=\"#66B032\">Example</font>"
      ]
    },
    {
      "cell_type": "markdown",
      "metadata": {
        "id": "jh5PqygKkbPT"
      },
      "source": [
        "[link text](https://)<font color=\"#66B032\"> We will be using Google Drive as a more permanent host of our team's raw dataset. [Click here to access it](https://docs.google.com/spreadsheets/d/1oMgIh22Mib1FNVYCT5pQmKOWzwsh-Xjb2IfXaUAXTvA/edit#gid=1554884236) and save it as a CSV again to upload into the Notebook. This uploading will have to been done every runtime. <br><br>\n",
        "</font>"
      ]
    },
    {
      "cell_type": "code",
      "metadata": {
        "id": "eUpKdAWtjxzw"
      },
      "source": [
        "# import pandas\n",
        "# athlete_events_raw = pandas.DataFrame(pandas.read_csv('https://raw.githubusercontent.com/rjkoepp/datasets/master/athlete_events.csv'))"
      ],
      "execution_count": null,
      "outputs": []
    },
    {
      "cell_type": "markdown",
      "metadata": {
        "id": "ujP62BeYjFZd"
      },
      "source": [
        "## Answer"
      ]
    },
    {
      "cell_type": "markdown",
      "metadata": {
        "id": "CKuLawrVkqq2"
      },
      "source": [
        ""
      ]
    },
    {
      "cell_type": "code",
      "metadata": {
        "id": "ZVwlRRbgkpyG",
        "colab": {
          "base_uri": "https://localhost:8080/",
          "height": 1986
        },
        "outputId": "6341f157-b3de-4975-e740-b91905cc2aec"
      },
      "source": [
        "# import statement that allows us to use pythons panda library,\n",
        "import pandas as pd\n",
        "\n",
        "# import to use sns for plots \n",
        "import seaborn as sns\n",
        "\n",
        "#import to use matplots plt\n",
        "import matplotlib.pyplot as plt\n",
        "\n",
        "# read from uploaded github file this way we can run the code without having to\n",
        "# have anything downloaded\n",
        "url = 'https://raw.githubusercontent.com/rjkoepp/datasets/master/master.csv'\n",
        "\n",
        "# using pandas, we read the csv file into 'suicide_data'\n",
        "suicide_data = pd.read_csv(url)\n",
        "\n",
        "# using pandas, we make a dataframe to perform anaysis on \n",
        "pd.DataFrame(suicide_data)\n",
        "\n",
        "!pip install pandas_ply\n",
        "\n",
        "# helps with ignoring pesky warnings\n",
        "import warnings\n",
        "warnings.filterwarnings('ignore')\n",
        "\n",
        "\n",
        "from pandas_ply import install_ply, X\n",
        "install_ply(pd)\n",
        "\n",
        "# displaying our data frame\n",
        "suicide_data"
      ],
      "execution_count": null,
      "outputs": [
        {
          "output_type": "stream",
          "text": [
            "Requirement already satisfied: pandas_ply in /usr/local/lib/python3.6/dist-packages (0.2.1)\n"
          ],
          "name": "stdout"
        },
        {
          "output_type": "execute_result",
          "data": {
            "text/html": [
              "<div>\n",
              "<style scoped>\n",
              "    .dataframe tbody tr th:only-of-type {\n",
              "        vertical-align: middle;\n",
              "    }\n",
              "\n",
              "    .dataframe tbody tr th {\n",
              "        vertical-align: top;\n",
              "    }\n",
              "\n",
              "    .dataframe thead th {\n",
              "        text-align: right;\n",
              "    }\n",
              "</style>\n",
              "<table border=\"1\" class=\"dataframe\">\n",
              "  <thead>\n",
              "    <tr style=\"text-align: right;\">\n",
              "      <th></th>\n",
              "      <th>country</th>\n",
              "      <th>year</th>\n",
              "      <th>sex</th>\n",
              "      <th>age</th>\n",
              "      <th>suicides_no</th>\n",
              "      <th>population</th>\n",
              "      <th>suicides/100k pop</th>\n",
              "      <th>country-year</th>\n",
              "      <th>HDI for year</th>\n",
              "      <th>gdp_for_year ($)</th>\n",
              "      <th>gdp_per_capita ($)</th>\n",
              "      <th>generation</th>\n",
              "    </tr>\n",
              "  </thead>\n",
              "  <tbody>\n",
              "    <tr>\n",
              "      <th>0</th>\n",
              "      <td>Albania</td>\n",
              "      <td>1987</td>\n",
              "      <td>male</td>\n",
              "      <td>15-24 years</td>\n",
              "      <td>21</td>\n",
              "      <td>312900</td>\n",
              "      <td>6.71</td>\n",
              "      <td>Albania1987</td>\n",
              "      <td>NaN</td>\n",
              "      <td>2,156,624,900</td>\n",
              "      <td>796</td>\n",
              "      <td>Generation X</td>\n",
              "    </tr>\n",
              "    <tr>\n",
              "      <th>1</th>\n",
              "      <td>Albania</td>\n",
              "      <td>1987</td>\n",
              "      <td>male</td>\n",
              "      <td>35-54 years</td>\n",
              "      <td>16</td>\n",
              "      <td>308000</td>\n",
              "      <td>5.19</td>\n",
              "      <td>Albania1987</td>\n",
              "      <td>NaN</td>\n",
              "      <td>2,156,624,900</td>\n",
              "      <td>796</td>\n",
              "      <td>Silent</td>\n",
              "    </tr>\n",
              "    <tr>\n",
              "      <th>2</th>\n",
              "      <td>Albania</td>\n",
              "      <td>1987</td>\n",
              "      <td>female</td>\n",
              "      <td>15-24 years</td>\n",
              "      <td>14</td>\n",
              "      <td>289700</td>\n",
              "      <td>4.83</td>\n",
              "      <td>Albania1987</td>\n",
              "      <td>NaN</td>\n",
              "      <td>2,156,624,900</td>\n",
              "      <td>796</td>\n",
              "      <td>Generation X</td>\n",
              "    </tr>\n",
              "    <tr>\n",
              "      <th>3</th>\n",
              "      <td>Albania</td>\n",
              "      <td>1987</td>\n",
              "      <td>male</td>\n",
              "      <td>75+ years</td>\n",
              "      <td>1</td>\n",
              "      <td>21800</td>\n",
              "      <td>4.59</td>\n",
              "      <td>Albania1987</td>\n",
              "      <td>NaN</td>\n",
              "      <td>2,156,624,900</td>\n",
              "      <td>796</td>\n",
              "      <td>G.I. Generation</td>\n",
              "    </tr>\n",
              "    <tr>\n",
              "      <th>4</th>\n",
              "      <td>Albania</td>\n",
              "      <td>1987</td>\n",
              "      <td>male</td>\n",
              "      <td>25-34 years</td>\n",
              "      <td>9</td>\n",
              "      <td>274300</td>\n",
              "      <td>3.28</td>\n",
              "      <td>Albania1987</td>\n",
              "      <td>NaN</td>\n",
              "      <td>2,156,624,900</td>\n",
              "      <td>796</td>\n",
              "      <td>Boomers</td>\n",
              "    </tr>\n",
              "    <tr>\n",
              "      <th>5</th>\n",
              "      <td>Albania</td>\n",
              "      <td>1987</td>\n",
              "      <td>female</td>\n",
              "      <td>75+ years</td>\n",
              "      <td>1</td>\n",
              "      <td>35600</td>\n",
              "      <td>2.81</td>\n",
              "      <td>Albania1987</td>\n",
              "      <td>NaN</td>\n",
              "      <td>2,156,624,900</td>\n",
              "      <td>796</td>\n",
              "      <td>G.I. Generation</td>\n",
              "    </tr>\n",
              "    <tr>\n",
              "      <th>6</th>\n",
              "      <td>Albania</td>\n",
              "      <td>1987</td>\n",
              "      <td>female</td>\n",
              "      <td>35-54 years</td>\n",
              "      <td>6</td>\n",
              "      <td>278800</td>\n",
              "      <td>2.15</td>\n",
              "      <td>Albania1987</td>\n",
              "      <td>NaN</td>\n",
              "      <td>2,156,624,900</td>\n",
              "      <td>796</td>\n",
              "      <td>Silent</td>\n",
              "    </tr>\n",
              "    <tr>\n",
              "      <th>7</th>\n",
              "      <td>Albania</td>\n",
              "      <td>1987</td>\n",
              "      <td>female</td>\n",
              "      <td>25-34 years</td>\n",
              "      <td>4</td>\n",
              "      <td>257200</td>\n",
              "      <td>1.56</td>\n",
              "      <td>Albania1987</td>\n",
              "      <td>NaN</td>\n",
              "      <td>2,156,624,900</td>\n",
              "      <td>796</td>\n",
              "      <td>Boomers</td>\n",
              "    </tr>\n",
              "    <tr>\n",
              "      <th>8</th>\n",
              "      <td>Albania</td>\n",
              "      <td>1987</td>\n",
              "      <td>male</td>\n",
              "      <td>55-74 years</td>\n",
              "      <td>1</td>\n",
              "      <td>137500</td>\n",
              "      <td>0.73</td>\n",
              "      <td>Albania1987</td>\n",
              "      <td>NaN</td>\n",
              "      <td>2,156,624,900</td>\n",
              "      <td>796</td>\n",
              "      <td>G.I. Generation</td>\n",
              "    </tr>\n",
              "    <tr>\n",
              "      <th>9</th>\n",
              "      <td>Albania</td>\n",
              "      <td>1987</td>\n",
              "      <td>female</td>\n",
              "      <td>5-14 years</td>\n",
              "      <td>0</td>\n",
              "      <td>311000</td>\n",
              "      <td>0.00</td>\n",
              "      <td>Albania1987</td>\n",
              "      <td>NaN</td>\n",
              "      <td>2,156,624,900</td>\n",
              "      <td>796</td>\n",
              "      <td>Generation X</td>\n",
              "    </tr>\n",
              "    <tr>\n",
              "      <th>10</th>\n",
              "      <td>Albania</td>\n",
              "      <td>1987</td>\n",
              "      <td>female</td>\n",
              "      <td>55-74 years</td>\n",
              "      <td>0</td>\n",
              "      <td>144600</td>\n",
              "      <td>0.00</td>\n",
              "      <td>Albania1987</td>\n",
              "      <td>NaN</td>\n",
              "      <td>2,156,624,900</td>\n",
              "      <td>796</td>\n",
              "      <td>G.I. Generation</td>\n",
              "    </tr>\n",
              "    <tr>\n",
              "      <th>11</th>\n",
              "      <td>Albania</td>\n",
              "      <td>1987</td>\n",
              "      <td>male</td>\n",
              "      <td>5-14 years</td>\n",
              "      <td>0</td>\n",
              "      <td>338200</td>\n",
              "      <td>0.00</td>\n",
              "      <td>Albania1987</td>\n",
              "      <td>NaN</td>\n",
              "      <td>2,156,624,900</td>\n",
              "      <td>796</td>\n",
              "      <td>Generation X</td>\n",
              "    </tr>\n",
              "    <tr>\n",
              "      <th>12</th>\n",
              "      <td>Albania</td>\n",
              "      <td>1988</td>\n",
              "      <td>female</td>\n",
              "      <td>75+ years</td>\n",
              "      <td>2</td>\n",
              "      <td>36400</td>\n",
              "      <td>5.49</td>\n",
              "      <td>Albania1988</td>\n",
              "      <td>NaN</td>\n",
              "      <td>2,126,000,000</td>\n",
              "      <td>769</td>\n",
              "      <td>G.I. Generation</td>\n",
              "    </tr>\n",
              "    <tr>\n",
              "      <th>13</th>\n",
              "      <td>Albania</td>\n",
              "      <td>1988</td>\n",
              "      <td>male</td>\n",
              "      <td>15-24 years</td>\n",
              "      <td>17</td>\n",
              "      <td>319200</td>\n",
              "      <td>5.33</td>\n",
              "      <td>Albania1988</td>\n",
              "      <td>NaN</td>\n",
              "      <td>2,126,000,000</td>\n",
              "      <td>769</td>\n",
              "      <td>Generation X</td>\n",
              "    </tr>\n",
              "    <tr>\n",
              "      <th>14</th>\n",
              "      <td>Albania</td>\n",
              "      <td>1988</td>\n",
              "      <td>male</td>\n",
              "      <td>75+ years</td>\n",
              "      <td>1</td>\n",
              "      <td>22300</td>\n",
              "      <td>4.48</td>\n",
              "      <td>Albania1988</td>\n",
              "      <td>NaN</td>\n",
              "      <td>2,126,000,000</td>\n",
              "      <td>769</td>\n",
              "      <td>G.I. Generation</td>\n",
              "    </tr>\n",
              "    <tr>\n",
              "      <th>15</th>\n",
              "      <td>Albania</td>\n",
              "      <td>1988</td>\n",
              "      <td>male</td>\n",
              "      <td>35-54 years</td>\n",
              "      <td>14</td>\n",
              "      <td>314100</td>\n",
              "      <td>4.46</td>\n",
              "      <td>Albania1988</td>\n",
              "      <td>NaN</td>\n",
              "      <td>2,126,000,000</td>\n",
              "      <td>769</td>\n",
              "      <td>Silent</td>\n",
              "    </tr>\n",
              "    <tr>\n",
              "      <th>16</th>\n",
              "      <td>Albania</td>\n",
              "      <td>1988</td>\n",
              "      <td>male</td>\n",
              "      <td>55-74 years</td>\n",
              "      <td>4</td>\n",
              "      <td>140200</td>\n",
              "      <td>2.85</td>\n",
              "      <td>Albania1988</td>\n",
              "      <td>NaN</td>\n",
              "      <td>2,126,000,000</td>\n",
              "      <td>769</td>\n",
              "      <td>G.I. Generation</td>\n",
              "    </tr>\n",
              "    <tr>\n",
              "      <th>17</th>\n",
              "      <td>Albania</td>\n",
              "      <td>1988</td>\n",
              "      <td>female</td>\n",
              "      <td>15-24 years</td>\n",
              "      <td>8</td>\n",
              "      <td>295600</td>\n",
              "      <td>2.71</td>\n",
              "      <td>Albania1988</td>\n",
              "      <td>NaN</td>\n",
              "      <td>2,126,000,000</td>\n",
              "      <td>769</td>\n",
              "      <td>Generation X</td>\n",
              "    </tr>\n",
              "    <tr>\n",
              "      <th>18</th>\n",
              "      <td>Albania</td>\n",
              "      <td>1988</td>\n",
              "      <td>female</td>\n",
              "      <td>55-74 years</td>\n",
              "      <td>3</td>\n",
              "      <td>147500</td>\n",
              "      <td>2.03</td>\n",
              "      <td>Albania1988</td>\n",
              "      <td>NaN</td>\n",
              "      <td>2,126,000,000</td>\n",
              "      <td>769</td>\n",
              "      <td>G.I. Generation</td>\n",
              "    </tr>\n",
              "    <tr>\n",
              "      <th>19</th>\n",
              "      <td>Albania</td>\n",
              "      <td>1988</td>\n",
              "      <td>female</td>\n",
              "      <td>25-34 years</td>\n",
              "      <td>5</td>\n",
              "      <td>262400</td>\n",
              "      <td>1.91</td>\n",
              "      <td>Albania1988</td>\n",
              "      <td>NaN</td>\n",
              "      <td>2,126,000,000</td>\n",
              "      <td>769</td>\n",
              "      <td>Boomers</td>\n",
              "    </tr>\n",
              "    <tr>\n",
              "      <th>20</th>\n",
              "      <td>Albania</td>\n",
              "      <td>1988</td>\n",
              "      <td>male</td>\n",
              "      <td>25-34 years</td>\n",
              "      <td>5</td>\n",
              "      <td>279900</td>\n",
              "      <td>1.79</td>\n",
              "      <td>Albania1988</td>\n",
              "      <td>NaN</td>\n",
              "      <td>2,126,000,000</td>\n",
              "      <td>769</td>\n",
              "      <td>Boomers</td>\n",
              "    </tr>\n",
              "    <tr>\n",
              "      <th>21</th>\n",
              "      <td>Albania</td>\n",
              "      <td>1988</td>\n",
              "      <td>female</td>\n",
              "      <td>35-54 years</td>\n",
              "      <td>4</td>\n",
              "      <td>284500</td>\n",
              "      <td>1.41</td>\n",
              "      <td>Albania1988</td>\n",
              "      <td>NaN</td>\n",
              "      <td>2,126,000,000</td>\n",
              "      <td>769</td>\n",
              "      <td>Silent</td>\n",
              "    </tr>\n",
              "    <tr>\n",
              "      <th>22</th>\n",
              "      <td>Albania</td>\n",
              "      <td>1988</td>\n",
              "      <td>female</td>\n",
              "      <td>5-14 years</td>\n",
              "      <td>0</td>\n",
              "      <td>317200</td>\n",
              "      <td>0.00</td>\n",
              "      <td>Albania1988</td>\n",
              "      <td>NaN</td>\n",
              "      <td>2,126,000,000</td>\n",
              "      <td>769</td>\n",
              "      <td>Generation X</td>\n",
              "    </tr>\n",
              "    <tr>\n",
              "      <th>23</th>\n",
              "      <td>Albania</td>\n",
              "      <td>1988</td>\n",
              "      <td>male</td>\n",
              "      <td>5-14 years</td>\n",
              "      <td>0</td>\n",
              "      <td>345000</td>\n",
              "      <td>0.00</td>\n",
              "      <td>Albania1988</td>\n",
              "      <td>NaN</td>\n",
              "      <td>2,126,000,000</td>\n",
              "      <td>769</td>\n",
              "      <td>Generation X</td>\n",
              "    </tr>\n",
              "    <tr>\n",
              "      <th>24</th>\n",
              "      <td>Albania</td>\n",
              "      <td>1989</td>\n",
              "      <td>male</td>\n",
              "      <td>75+ years</td>\n",
              "      <td>2</td>\n",
              "      <td>22500</td>\n",
              "      <td>8.89</td>\n",
              "      <td>Albania1989</td>\n",
              "      <td>NaN</td>\n",
              "      <td>2,335,124,988</td>\n",
              "      <td>833</td>\n",
              "      <td>G.I. Generation</td>\n",
              "    </tr>\n",
              "    <tr>\n",
              "      <th>25</th>\n",
              "      <td>Albania</td>\n",
              "      <td>1989</td>\n",
              "      <td>male</td>\n",
              "      <td>25-34 years</td>\n",
              "      <td>18</td>\n",
              "      <td>283600</td>\n",
              "      <td>6.35</td>\n",
              "      <td>Albania1989</td>\n",
              "      <td>NaN</td>\n",
              "      <td>2,335,124,988</td>\n",
              "      <td>833</td>\n",
              "      <td>Boomers</td>\n",
              "    </tr>\n",
              "    <tr>\n",
              "      <th>26</th>\n",
              "      <td>Albania</td>\n",
              "      <td>1989</td>\n",
              "      <td>male</td>\n",
              "      <td>35-54 years</td>\n",
              "      <td>15</td>\n",
              "      <td>318400</td>\n",
              "      <td>4.71</td>\n",
              "      <td>Albania1989</td>\n",
              "      <td>NaN</td>\n",
              "      <td>2,335,124,988</td>\n",
              "      <td>833</td>\n",
              "      <td>Silent</td>\n",
              "    </tr>\n",
              "    <tr>\n",
              "      <th>27</th>\n",
              "      <td>Albania</td>\n",
              "      <td>1989</td>\n",
              "      <td>male</td>\n",
              "      <td>55-74 years</td>\n",
              "      <td>6</td>\n",
              "      <td>142100</td>\n",
              "      <td>4.22</td>\n",
              "      <td>Albania1989</td>\n",
              "      <td>NaN</td>\n",
              "      <td>2,335,124,988</td>\n",
              "      <td>833</td>\n",
              "      <td>G.I. Generation</td>\n",
              "    </tr>\n",
              "    <tr>\n",
              "      <th>28</th>\n",
              "      <td>Albania</td>\n",
              "      <td>1989</td>\n",
              "      <td>male</td>\n",
              "      <td>15-24 years</td>\n",
              "      <td>12</td>\n",
              "      <td>323500</td>\n",
              "      <td>3.71</td>\n",
              "      <td>Albania1989</td>\n",
              "      <td>NaN</td>\n",
              "      <td>2,335,124,988</td>\n",
              "      <td>833</td>\n",
              "      <td>Generation X</td>\n",
              "    </tr>\n",
              "    <tr>\n",
              "      <th>29</th>\n",
              "      <td>Albania</td>\n",
              "      <td>1989</td>\n",
              "      <td>female</td>\n",
              "      <td>35-54 years</td>\n",
              "      <td>7</td>\n",
              "      <td>288600</td>\n",
              "      <td>2.43</td>\n",
              "      <td>Albania1989</td>\n",
              "      <td>NaN</td>\n",
              "      <td>2,335,124,988</td>\n",
              "      <td>833</td>\n",
              "      <td>Silent</td>\n",
              "    </tr>\n",
              "    <tr>\n",
              "      <th>...</th>\n",
              "      <td>...</td>\n",
              "      <td>...</td>\n",
              "      <td>...</td>\n",
              "      <td>...</td>\n",
              "      <td>...</td>\n",
              "      <td>...</td>\n",
              "      <td>...</td>\n",
              "      <td>...</td>\n",
              "      <td>...</td>\n",
              "      <td>...</td>\n",
              "      <td>...</td>\n",
              "      <td>...</td>\n",
              "    </tr>\n",
              "    <tr>\n",
              "      <th>27790</th>\n",
              "      <td>Uzbekistan</td>\n",
              "      <td>2012</td>\n",
              "      <td>female</td>\n",
              "      <td>25-34 years</td>\n",
              "      <td>148</td>\n",
              "      <td>2556673</td>\n",
              "      <td>5.79</td>\n",
              "      <td>Uzbekistan2012</td>\n",
              "      <td>0.668</td>\n",
              "      <td>51,821,573,338</td>\n",
              "      <td>1964</td>\n",
              "      <td>Millenials</td>\n",
              "    </tr>\n",
              "    <tr>\n",
              "      <th>27791</th>\n",
              "      <td>Uzbekistan</td>\n",
              "      <td>2012</td>\n",
              "      <td>female</td>\n",
              "      <td>35-54 years</td>\n",
              "      <td>89</td>\n",
              "      <td>3474788</td>\n",
              "      <td>2.56</td>\n",
              "      <td>Uzbekistan2012</td>\n",
              "      <td>0.668</td>\n",
              "      <td>51,821,573,338</td>\n",
              "      <td>1964</td>\n",
              "      <td>Generation X</td>\n",
              "    </tr>\n",
              "    <tr>\n",
              "      <th>27792</th>\n",
              "      <td>Uzbekistan</td>\n",
              "      <td>2012</td>\n",
              "      <td>male</td>\n",
              "      <td>5-14 years</td>\n",
              "      <td>67</td>\n",
              "      <td>2701361</td>\n",
              "      <td>2.48</td>\n",
              "      <td>Uzbekistan2012</td>\n",
              "      <td>0.668</td>\n",
              "      <td>51,821,573,338</td>\n",
              "      <td>1964</td>\n",
              "      <td>Generation Z</td>\n",
              "    </tr>\n",
              "    <tr>\n",
              "      <th>27793</th>\n",
              "      <td>Uzbekistan</td>\n",
              "      <td>2012</td>\n",
              "      <td>female</td>\n",
              "      <td>55-74 years</td>\n",
              "      <td>25</td>\n",
              "      <td>1283060</td>\n",
              "      <td>1.95</td>\n",
              "      <td>Uzbekistan2012</td>\n",
              "      <td>0.668</td>\n",
              "      <td>51,821,573,338</td>\n",
              "      <td>1964</td>\n",
              "      <td>Boomers</td>\n",
              "    </tr>\n",
              "    <tr>\n",
              "      <th>27794</th>\n",
              "      <td>Uzbekistan</td>\n",
              "      <td>2012</td>\n",
              "      <td>female</td>\n",
              "      <td>75+ years</td>\n",
              "      <td>4</td>\n",
              "      <td>338557</td>\n",
              "      <td>1.18</td>\n",
              "      <td>Uzbekistan2012</td>\n",
              "      <td>0.668</td>\n",
              "      <td>51,821,573,338</td>\n",
              "      <td>1964</td>\n",
              "      <td>Silent</td>\n",
              "    </tr>\n",
              "    <tr>\n",
              "      <th>27795</th>\n",
              "      <td>Uzbekistan</td>\n",
              "      <td>2012</td>\n",
              "      <td>female</td>\n",
              "      <td>5-14 years</td>\n",
              "      <td>16</td>\n",
              "      <td>2578408</td>\n",
              "      <td>0.62</td>\n",
              "      <td>Uzbekistan2012</td>\n",
              "      <td>0.668</td>\n",
              "      <td>51,821,573,338</td>\n",
              "      <td>1964</td>\n",
              "      <td>Generation Z</td>\n",
              "    </tr>\n",
              "    <tr>\n",
              "      <th>27796</th>\n",
              "      <td>Uzbekistan</td>\n",
              "      <td>2013</td>\n",
              "      <td>male</td>\n",
              "      <td>35-54 years</td>\n",
              "      <td>481</td>\n",
              "      <td>3346411</td>\n",
              "      <td>14.37</td>\n",
              "      <td>Uzbekistan2013</td>\n",
              "      <td>0.672</td>\n",
              "      <td>57,690,453,461</td>\n",
              "      <td>2150</td>\n",
              "      <td>Generation X</td>\n",
              "    </tr>\n",
              "    <tr>\n",
              "      <th>27797</th>\n",
              "      <td>Uzbekistan</td>\n",
              "      <td>2013</td>\n",
              "      <td>male</td>\n",
              "      <td>25-34 years</td>\n",
              "      <td>328</td>\n",
              "      <td>2644648</td>\n",
              "      <td>12.40</td>\n",
              "      <td>Uzbekistan2013</td>\n",
              "      <td>0.672</td>\n",
              "      <td>57,690,453,461</td>\n",
              "      <td>2150</td>\n",
              "      <td>Millenials</td>\n",
              "    </tr>\n",
              "    <tr>\n",
              "      <th>27798</th>\n",
              "      <td>Uzbekistan</td>\n",
              "      <td>2013</td>\n",
              "      <td>female</td>\n",
              "      <td>15-24 years</td>\n",
              "      <td>323</td>\n",
              "      <td>3039740</td>\n",
              "      <td>10.63</td>\n",
              "      <td>Uzbekistan2013</td>\n",
              "      <td>0.672</td>\n",
              "      <td>57,690,453,461</td>\n",
              "      <td>2150</td>\n",
              "      <td>Millenials</td>\n",
              "    </tr>\n",
              "    <tr>\n",
              "      <th>27799</th>\n",
              "      <td>Uzbekistan</td>\n",
              "      <td>2013</td>\n",
              "      <td>male</td>\n",
              "      <td>15-24 years</td>\n",
              "      <td>320</td>\n",
              "      <td>3171202</td>\n",
              "      <td>10.09</td>\n",
              "      <td>Uzbekistan2013</td>\n",
              "      <td>0.672</td>\n",
              "      <td>57,690,453,461</td>\n",
              "      <td>2150</td>\n",
              "      <td>Millenials</td>\n",
              "    </tr>\n",
              "    <tr>\n",
              "      <th>27800</th>\n",
              "      <td>Uzbekistan</td>\n",
              "      <td>2013</td>\n",
              "      <td>male</td>\n",
              "      <td>55-74 years</td>\n",
              "      <td>119</td>\n",
              "      <td>1202790</td>\n",
              "      <td>9.89</td>\n",
              "      <td>Uzbekistan2013</td>\n",
              "      <td>0.672</td>\n",
              "      <td>57,690,453,461</td>\n",
              "      <td>2150</td>\n",
              "      <td>Boomers</td>\n",
              "    </tr>\n",
              "    <tr>\n",
              "      <th>27801</th>\n",
              "      <td>Uzbekistan</td>\n",
              "      <td>2013</td>\n",
              "      <td>male</td>\n",
              "      <td>75+ years</td>\n",
              "      <td>13</td>\n",
              "      <td>221002</td>\n",
              "      <td>5.88</td>\n",
              "      <td>Uzbekistan2013</td>\n",
              "      <td>0.672</td>\n",
              "      <td>57,690,453,461</td>\n",
              "      <td>2150</td>\n",
              "      <td>Silent</td>\n",
              "    </tr>\n",
              "    <tr>\n",
              "      <th>27802</th>\n",
              "      <td>Uzbekistan</td>\n",
              "      <td>2013</td>\n",
              "      <td>female</td>\n",
              "      <td>25-34 years</td>\n",
              "      <td>146</td>\n",
              "      <td>2647820</td>\n",
              "      <td>5.51</td>\n",
              "      <td>Uzbekistan2013</td>\n",
              "      <td>0.672</td>\n",
              "      <td>57,690,453,461</td>\n",
              "      <td>2150</td>\n",
              "      <td>Millenials</td>\n",
              "    </tr>\n",
              "    <tr>\n",
              "      <th>27803</th>\n",
              "      <td>Uzbekistan</td>\n",
              "      <td>2013</td>\n",
              "      <td>female</td>\n",
              "      <td>35-54 years</td>\n",
              "      <td>99</td>\n",
              "      <td>3547895</td>\n",
              "      <td>2.79</td>\n",
              "      <td>Uzbekistan2013</td>\n",
              "      <td>0.672</td>\n",
              "      <td>57,690,453,461</td>\n",
              "      <td>2150</td>\n",
              "      <td>Generation X</td>\n",
              "    </tr>\n",
              "    <tr>\n",
              "      <th>27804</th>\n",
              "      <td>Uzbekistan</td>\n",
              "      <td>2013</td>\n",
              "      <td>female</td>\n",
              "      <td>75+ years</td>\n",
              "      <td>8</td>\n",
              "      <td>345180</td>\n",
              "      <td>2.32</td>\n",
              "      <td>Uzbekistan2013</td>\n",
              "      <td>0.672</td>\n",
              "      <td>57,690,453,461</td>\n",
              "      <td>2150</td>\n",
              "      <td>Silent</td>\n",
              "    </tr>\n",
              "    <tr>\n",
              "      <th>27805</th>\n",
              "      <td>Uzbekistan</td>\n",
              "      <td>2013</td>\n",
              "      <td>male</td>\n",
              "      <td>5-14 years</td>\n",
              "      <td>61</td>\n",
              "      <td>2720938</td>\n",
              "      <td>2.24</td>\n",
              "      <td>Uzbekistan2013</td>\n",
              "      <td>0.672</td>\n",
              "      <td>57,690,453,461</td>\n",
              "      <td>2150</td>\n",
              "      <td>Generation Z</td>\n",
              "    </tr>\n",
              "    <tr>\n",
              "      <th>27806</th>\n",
              "      <td>Uzbekistan</td>\n",
              "      <td>2013</td>\n",
              "      <td>female</td>\n",
              "      <td>55-74 years</td>\n",
              "      <td>21</td>\n",
              "      <td>1356298</td>\n",
              "      <td>1.55</td>\n",
              "      <td>Uzbekistan2013</td>\n",
              "      <td>0.672</td>\n",
              "      <td>57,690,453,461</td>\n",
              "      <td>2150</td>\n",
              "      <td>Boomers</td>\n",
              "    </tr>\n",
              "    <tr>\n",
              "      <th>27807</th>\n",
              "      <td>Uzbekistan</td>\n",
              "      <td>2013</td>\n",
              "      <td>female</td>\n",
              "      <td>5-14 years</td>\n",
              "      <td>31</td>\n",
              "      <td>2595000</td>\n",
              "      <td>1.19</td>\n",
              "      <td>Uzbekistan2013</td>\n",
              "      <td>0.672</td>\n",
              "      <td>57,690,453,461</td>\n",
              "      <td>2150</td>\n",
              "      <td>Generation Z</td>\n",
              "    </tr>\n",
              "    <tr>\n",
              "      <th>27808</th>\n",
              "      <td>Uzbekistan</td>\n",
              "      <td>2014</td>\n",
              "      <td>male</td>\n",
              "      <td>35-54 years</td>\n",
              "      <td>519</td>\n",
              "      <td>3421300</td>\n",
              "      <td>15.17</td>\n",
              "      <td>Uzbekistan2014</td>\n",
              "      <td>0.675</td>\n",
              "      <td>63,067,077,179</td>\n",
              "      <td>2309</td>\n",
              "      <td>Generation X</td>\n",
              "    </tr>\n",
              "    <tr>\n",
              "      <th>27809</th>\n",
              "      <td>Uzbekistan</td>\n",
              "      <td>2014</td>\n",
              "      <td>male</td>\n",
              "      <td>25-34 years</td>\n",
              "      <td>318</td>\n",
              "      <td>2739150</td>\n",
              "      <td>11.61</td>\n",
              "      <td>Uzbekistan2014</td>\n",
              "      <td>0.675</td>\n",
              "      <td>63,067,077,179</td>\n",
              "      <td>2309</td>\n",
              "      <td>Millenials</td>\n",
              "    </tr>\n",
              "    <tr>\n",
              "      <th>27810</th>\n",
              "      <td>Uzbekistan</td>\n",
              "      <td>2014</td>\n",
              "      <td>female</td>\n",
              "      <td>15-24 years</td>\n",
              "      <td>347</td>\n",
              "      <td>2992817</td>\n",
              "      <td>11.59</td>\n",
              "      <td>Uzbekistan2014</td>\n",
              "      <td>0.675</td>\n",
              "      <td>63,067,077,179</td>\n",
              "      <td>2309</td>\n",
              "      <td>Millenials</td>\n",
              "    </tr>\n",
              "    <tr>\n",
              "      <th>27811</th>\n",
              "      <td>Uzbekistan</td>\n",
              "      <td>2014</td>\n",
              "      <td>male</td>\n",
              "      <td>55-74 years</td>\n",
              "      <td>144</td>\n",
              "      <td>1271111</td>\n",
              "      <td>11.33</td>\n",
              "      <td>Uzbekistan2014</td>\n",
              "      <td>0.675</td>\n",
              "      <td>63,067,077,179</td>\n",
              "      <td>2309</td>\n",
              "      <td>Boomers</td>\n",
              "    </tr>\n",
              "    <tr>\n",
              "      <th>27812</th>\n",
              "      <td>Uzbekistan</td>\n",
              "      <td>2014</td>\n",
              "      <td>male</td>\n",
              "      <td>15-24 years</td>\n",
              "      <td>347</td>\n",
              "      <td>3126905</td>\n",
              "      <td>11.10</td>\n",
              "      <td>Uzbekistan2014</td>\n",
              "      <td>0.675</td>\n",
              "      <td>63,067,077,179</td>\n",
              "      <td>2309</td>\n",
              "      <td>Millenials</td>\n",
              "    </tr>\n",
              "    <tr>\n",
              "      <th>27813</th>\n",
              "      <td>Uzbekistan</td>\n",
              "      <td>2014</td>\n",
              "      <td>male</td>\n",
              "      <td>75+ years</td>\n",
              "      <td>17</td>\n",
              "      <td>224995</td>\n",
              "      <td>7.56</td>\n",
              "      <td>Uzbekistan2014</td>\n",
              "      <td>0.675</td>\n",
              "      <td>63,067,077,179</td>\n",
              "      <td>2309</td>\n",
              "      <td>Silent</td>\n",
              "    </tr>\n",
              "    <tr>\n",
              "      <th>27814</th>\n",
              "      <td>Uzbekistan</td>\n",
              "      <td>2014</td>\n",
              "      <td>female</td>\n",
              "      <td>25-34 years</td>\n",
              "      <td>162</td>\n",
              "      <td>2735238</td>\n",
              "      <td>5.92</td>\n",
              "      <td>Uzbekistan2014</td>\n",
              "      <td>0.675</td>\n",
              "      <td>63,067,077,179</td>\n",
              "      <td>2309</td>\n",
              "      <td>Millenials</td>\n",
              "    </tr>\n",
              "    <tr>\n",
              "      <th>27815</th>\n",
              "      <td>Uzbekistan</td>\n",
              "      <td>2014</td>\n",
              "      <td>female</td>\n",
              "      <td>35-54 years</td>\n",
              "      <td>107</td>\n",
              "      <td>3620833</td>\n",
              "      <td>2.96</td>\n",
              "      <td>Uzbekistan2014</td>\n",
              "      <td>0.675</td>\n",
              "      <td>63,067,077,179</td>\n",
              "      <td>2309</td>\n",
              "      <td>Generation X</td>\n",
              "    </tr>\n",
              "    <tr>\n",
              "      <th>27816</th>\n",
              "      <td>Uzbekistan</td>\n",
              "      <td>2014</td>\n",
              "      <td>female</td>\n",
              "      <td>75+ years</td>\n",
              "      <td>9</td>\n",
              "      <td>348465</td>\n",
              "      <td>2.58</td>\n",
              "      <td>Uzbekistan2014</td>\n",
              "      <td>0.675</td>\n",
              "      <td>63,067,077,179</td>\n",
              "      <td>2309</td>\n",
              "      <td>Silent</td>\n",
              "    </tr>\n",
              "    <tr>\n",
              "      <th>27817</th>\n",
              "      <td>Uzbekistan</td>\n",
              "      <td>2014</td>\n",
              "      <td>male</td>\n",
              "      <td>5-14 years</td>\n",
              "      <td>60</td>\n",
              "      <td>2762158</td>\n",
              "      <td>2.17</td>\n",
              "      <td>Uzbekistan2014</td>\n",
              "      <td>0.675</td>\n",
              "      <td>63,067,077,179</td>\n",
              "      <td>2309</td>\n",
              "      <td>Generation Z</td>\n",
              "    </tr>\n",
              "    <tr>\n",
              "      <th>27818</th>\n",
              "      <td>Uzbekistan</td>\n",
              "      <td>2014</td>\n",
              "      <td>female</td>\n",
              "      <td>5-14 years</td>\n",
              "      <td>44</td>\n",
              "      <td>2631600</td>\n",
              "      <td>1.67</td>\n",
              "      <td>Uzbekistan2014</td>\n",
              "      <td>0.675</td>\n",
              "      <td>63,067,077,179</td>\n",
              "      <td>2309</td>\n",
              "      <td>Generation Z</td>\n",
              "    </tr>\n",
              "    <tr>\n",
              "      <th>27819</th>\n",
              "      <td>Uzbekistan</td>\n",
              "      <td>2014</td>\n",
              "      <td>female</td>\n",
              "      <td>55-74 years</td>\n",
              "      <td>21</td>\n",
              "      <td>1438935</td>\n",
              "      <td>1.46</td>\n",
              "      <td>Uzbekistan2014</td>\n",
              "      <td>0.675</td>\n",
              "      <td>63,067,077,179</td>\n",
              "      <td>2309</td>\n",
              "      <td>Boomers</td>\n",
              "    </tr>\n",
              "  </tbody>\n",
              "</table>\n",
              "<p>27820 rows × 12 columns</p>\n",
              "</div>"
            ],
            "text/plain": [
              "          country  year     sex          age  suicides_no  population  \\\n",
              "0         Albania  1987    male  15-24 years           21      312900   \n",
              "1         Albania  1987    male  35-54 years           16      308000   \n",
              "2         Albania  1987  female  15-24 years           14      289700   \n",
              "3         Albania  1987    male    75+ years            1       21800   \n",
              "4         Albania  1987    male  25-34 years            9      274300   \n",
              "5         Albania  1987  female    75+ years            1       35600   \n",
              "6         Albania  1987  female  35-54 years            6      278800   \n",
              "7         Albania  1987  female  25-34 years            4      257200   \n",
              "8         Albania  1987    male  55-74 years            1      137500   \n",
              "9         Albania  1987  female   5-14 years            0      311000   \n",
              "10        Albania  1987  female  55-74 years            0      144600   \n",
              "11        Albania  1987    male   5-14 years            0      338200   \n",
              "12        Albania  1988  female    75+ years            2       36400   \n",
              "13        Albania  1988    male  15-24 years           17      319200   \n",
              "14        Albania  1988    male    75+ years            1       22300   \n",
              "15        Albania  1988    male  35-54 years           14      314100   \n",
              "16        Albania  1988    male  55-74 years            4      140200   \n",
              "17        Albania  1988  female  15-24 years            8      295600   \n",
              "18        Albania  1988  female  55-74 years            3      147500   \n",
              "19        Albania  1988  female  25-34 years            5      262400   \n",
              "20        Albania  1988    male  25-34 years            5      279900   \n",
              "21        Albania  1988  female  35-54 years            4      284500   \n",
              "22        Albania  1988  female   5-14 years            0      317200   \n",
              "23        Albania  1988    male   5-14 years            0      345000   \n",
              "24        Albania  1989    male    75+ years            2       22500   \n",
              "25        Albania  1989    male  25-34 years           18      283600   \n",
              "26        Albania  1989    male  35-54 years           15      318400   \n",
              "27        Albania  1989    male  55-74 years            6      142100   \n",
              "28        Albania  1989    male  15-24 years           12      323500   \n",
              "29        Albania  1989  female  35-54 years            7      288600   \n",
              "...           ...   ...     ...          ...          ...         ...   \n",
              "27790  Uzbekistan  2012  female  25-34 years          148     2556673   \n",
              "27791  Uzbekistan  2012  female  35-54 years           89     3474788   \n",
              "27792  Uzbekistan  2012    male   5-14 years           67     2701361   \n",
              "27793  Uzbekistan  2012  female  55-74 years           25     1283060   \n",
              "27794  Uzbekistan  2012  female    75+ years            4      338557   \n",
              "27795  Uzbekistan  2012  female   5-14 years           16     2578408   \n",
              "27796  Uzbekistan  2013    male  35-54 years          481     3346411   \n",
              "27797  Uzbekistan  2013    male  25-34 years          328     2644648   \n",
              "27798  Uzbekistan  2013  female  15-24 years          323     3039740   \n",
              "27799  Uzbekistan  2013    male  15-24 years          320     3171202   \n",
              "27800  Uzbekistan  2013    male  55-74 years          119     1202790   \n",
              "27801  Uzbekistan  2013    male    75+ years           13      221002   \n",
              "27802  Uzbekistan  2013  female  25-34 years          146     2647820   \n",
              "27803  Uzbekistan  2013  female  35-54 years           99     3547895   \n",
              "27804  Uzbekistan  2013  female    75+ years            8      345180   \n",
              "27805  Uzbekistan  2013    male   5-14 years           61     2720938   \n",
              "27806  Uzbekistan  2013  female  55-74 years           21     1356298   \n",
              "27807  Uzbekistan  2013  female   5-14 years           31     2595000   \n",
              "27808  Uzbekistan  2014    male  35-54 years          519     3421300   \n",
              "27809  Uzbekistan  2014    male  25-34 years          318     2739150   \n",
              "27810  Uzbekistan  2014  female  15-24 years          347     2992817   \n",
              "27811  Uzbekistan  2014    male  55-74 years          144     1271111   \n",
              "27812  Uzbekistan  2014    male  15-24 years          347     3126905   \n",
              "27813  Uzbekistan  2014    male    75+ years           17      224995   \n",
              "27814  Uzbekistan  2014  female  25-34 years          162     2735238   \n",
              "27815  Uzbekistan  2014  female  35-54 years          107     3620833   \n",
              "27816  Uzbekistan  2014  female    75+ years            9      348465   \n",
              "27817  Uzbekistan  2014    male   5-14 years           60     2762158   \n",
              "27818  Uzbekistan  2014  female   5-14 years           44     2631600   \n",
              "27819  Uzbekistan  2014  female  55-74 years           21     1438935   \n",
              "\n",
              "       suicides/100k pop    country-year  HDI for year  gdp_for_year ($)   \\\n",
              "0                   6.71     Albania1987           NaN      2,156,624,900   \n",
              "1                   5.19     Albania1987           NaN      2,156,624,900   \n",
              "2                   4.83     Albania1987           NaN      2,156,624,900   \n",
              "3                   4.59     Albania1987           NaN      2,156,624,900   \n",
              "4                   3.28     Albania1987           NaN      2,156,624,900   \n",
              "5                   2.81     Albania1987           NaN      2,156,624,900   \n",
              "6                   2.15     Albania1987           NaN      2,156,624,900   \n",
              "7                   1.56     Albania1987           NaN      2,156,624,900   \n",
              "8                   0.73     Albania1987           NaN      2,156,624,900   \n",
              "9                   0.00     Albania1987           NaN      2,156,624,900   \n",
              "10                  0.00     Albania1987           NaN      2,156,624,900   \n",
              "11                  0.00     Albania1987           NaN      2,156,624,900   \n",
              "12                  5.49     Albania1988           NaN      2,126,000,000   \n",
              "13                  5.33     Albania1988           NaN      2,126,000,000   \n",
              "14                  4.48     Albania1988           NaN      2,126,000,000   \n",
              "15                  4.46     Albania1988           NaN      2,126,000,000   \n",
              "16                  2.85     Albania1988           NaN      2,126,000,000   \n",
              "17                  2.71     Albania1988           NaN      2,126,000,000   \n",
              "18                  2.03     Albania1988           NaN      2,126,000,000   \n",
              "19                  1.91     Albania1988           NaN      2,126,000,000   \n",
              "20                  1.79     Albania1988           NaN      2,126,000,000   \n",
              "21                  1.41     Albania1988           NaN      2,126,000,000   \n",
              "22                  0.00     Albania1988           NaN      2,126,000,000   \n",
              "23                  0.00     Albania1988           NaN      2,126,000,000   \n",
              "24                  8.89     Albania1989           NaN      2,335,124,988   \n",
              "25                  6.35     Albania1989           NaN      2,335,124,988   \n",
              "26                  4.71     Albania1989           NaN      2,335,124,988   \n",
              "27                  4.22     Albania1989           NaN      2,335,124,988   \n",
              "28                  3.71     Albania1989           NaN      2,335,124,988   \n",
              "29                  2.43     Albania1989           NaN      2,335,124,988   \n",
              "...                  ...             ...           ...                ...   \n",
              "27790               5.79  Uzbekistan2012         0.668     51,821,573,338   \n",
              "27791               2.56  Uzbekistan2012         0.668     51,821,573,338   \n",
              "27792               2.48  Uzbekistan2012         0.668     51,821,573,338   \n",
              "27793               1.95  Uzbekistan2012         0.668     51,821,573,338   \n",
              "27794               1.18  Uzbekistan2012         0.668     51,821,573,338   \n",
              "27795               0.62  Uzbekistan2012         0.668     51,821,573,338   \n",
              "27796              14.37  Uzbekistan2013         0.672     57,690,453,461   \n",
              "27797              12.40  Uzbekistan2013         0.672     57,690,453,461   \n",
              "27798              10.63  Uzbekistan2013         0.672     57,690,453,461   \n",
              "27799              10.09  Uzbekistan2013         0.672     57,690,453,461   \n",
              "27800               9.89  Uzbekistan2013         0.672     57,690,453,461   \n",
              "27801               5.88  Uzbekistan2013         0.672     57,690,453,461   \n",
              "27802               5.51  Uzbekistan2013         0.672     57,690,453,461   \n",
              "27803               2.79  Uzbekistan2013         0.672     57,690,453,461   \n",
              "27804               2.32  Uzbekistan2013         0.672     57,690,453,461   \n",
              "27805               2.24  Uzbekistan2013         0.672     57,690,453,461   \n",
              "27806               1.55  Uzbekistan2013         0.672     57,690,453,461   \n",
              "27807               1.19  Uzbekistan2013         0.672     57,690,453,461   \n",
              "27808              15.17  Uzbekistan2014         0.675     63,067,077,179   \n",
              "27809              11.61  Uzbekistan2014         0.675     63,067,077,179   \n",
              "27810              11.59  Uzbekistan2014         0.675     63,067,077,179   \n",
              "27811              11.33  Uzbekistan2014         0.675     63,067,077,179   \n",
              "27812              11.10  Uzbekistan2014         0.675     63,067,077,179   \n",
              "27813               7.56  Uzbekistan2014         0.675     63,067,077,179   \n",
              "27814               5.92  Uzbekistan2014         0.675     63,067,077,179   \n",
              "27815               2.96  Uzbekistan2014         0.675     63,067,077,179   \n",
              "27816               2.58  Uzbekistan2014         0.675     63,067,077,179   \n",
              "27817               2.17  Uzbekistan2014         0.675     63,067,077,179   \n",
              "27818               1.67  Uzbekistan2014         0.675     63,067,077,179   \n",
              "27819               1.46  Uzbekistan2014         0.675     63,067,077,179   \n",
              "\n",
              "       gdp_per_capita ($)       generation  \n",
              "0                     796     Generation X  \n",
              "1                     796           Silent  \n",
              "2                     796     Generation X  \n",
              "3                     796  G.I. Generation  \n",
              "4                     796          Boomers  \n",
              "5                     796  G.I. Generation  \n",
              "6                     796           Silent  \n",
              "7                     796          Boomers  \n",
              "8                     796  G.I. Generation  \n",
              "9                     796     Generation X  \n",
              "10                    796  G.I. Generation  \n",
              "11                    796     Generation X  \n",
              "12                    769  G.I. Generation  \n",
              "13                    769     Generation X  \n",
              "14                    769  G.I. Generation  \n",
              "15                    769           Silent  \n",
              "16                    769  G.I. Generation  \n",
              "17                    769     Generation X  \n",
              "18                    769  G.I. Generation  \n",
              "19                    769          Boomers  \n",
              "20                    769          Boomers  \n",
              "21                    769           Silent  \n",
              "22                    769     Generation X  \n",
              "23                    769     Generation X  \n",
              "24                    833  G.I. Generation  \n",
              "25                    833          Boomers  \n",
              "26                    833           Silent  \n",
              "27                    833  G.I. Generation  \n",
              "28                    833     Generation X  \n",
              "29                    833           Silent  \n",
              "...                   ...              ...  \n",
              "27790                1964       Millenials  \n",
              "27791                1964     Generation X  \n",
              "27792                1964     Generation Z  \n",
              "27793                1964          Boomers  \n",
              "27794                1964           Silent  \n",
              "27795                1964     Generation Z  \n",
              "27796                2150     Generation X  \n",
              "27797                2150       Millenials  \n",
              "27798                2150       Millenials  \n",
              "27799                2150       Millenials  \n",
              "27800                2150          Boomers  \n",
              "27801                2150           Silent  \n",
              "27802                2150       Millenials  \n",
              "27803                2150     Generation X  \n",
              "27804                2150           Silent  \n",
              "27805                2150     Generation Z  \n",
              "27806                2150          Boomers  \n",
              "27807                2150     Generation Z  \n",
              "27808                2309     Generation X  \n",
              "27809                2309       Millenials  \n",
              "27810                2309       Millenials  \n",
              "27811                2309          Boomers  \n",
              "27812                2309       Millenials  \n",
              "27813                2309           Silent  \n",
              "27814                2309       Millenials  \n",
              "27815                2309     Generation X  \n",
              "27816                2309           Silent  \n",
              "27817                2309     Generation Z  \n",
              "27818                2309     Generation Z  \n",
              "27819                2309          Boomers  \n",
              "\n",
              "[27820 rows x 12 columns]"
            ]
          },
          "metadata": {
            "tags": []
          },
          "execution_count": 56
        }
      ]
    },
    {
      "cell_type": "markdown",
      "metadata": {
        "id": "H0QRS2isg48P"
      },
      "source": [
        "# <font color=\"#347C98\">Data Wrangling</font>\n",
        "\n"
      ]
    },
    {
      "cell_type": "markdown",
      "metadata": {
        "id": "xRxJf5QBjSPh"
      },
      "source": [
        "<font color=\"#347C98\"> Include your code below to tidy the dataset. Be sure this code includes comments and well-named variables.<br><br>\n",
        "  \n",
        "Incorporate feedback provided to you by your TA/IA from the previous assignment.<br>\n",
        "  \n",
        "<b>2 pts</b>\n",
        "</font><br><br>\n",
        "<font color=\"#347C98\">  Include an explanation of the steps you took to wrangle the data above. Be sure to explain <i>why</i> you did each step.<br>\n",
        "<b>2pts</b>\n",
        "</font>"
      ]
    },
    {
      "cell_type": "markdown",
      "metadata": {
        "id": "oucziH9ag48L"
      },
      "source": [
        "## <font color=\"#66B032\">Example</font>"
      ]
    },
    {
      "cell_type": "markdown",
      "metadata": {
        "id": "PBv40eEt_sHt"
      },
      "source": [
        " <font color=\"#66B032\"> Below we needed to finish getting the ages of death for the athletes from Wikipedia. We found that the \"categories\" property of the WikipediaPage object contains a standardized  format for indicated birth year and death year. To keep the data anonymous, we overwrote names with age of death if it were found, or NaN if not found. Insodoing, we also found that running the code took too long to be useful, so we cut back our categories back to the original research question, comparing athletics and swimming. After the scraping we saved the output to a csv file so it can just be loaded. [Click here to download the file and skip to the next section](https://drive.google.com/open?id=13OQ7cXoXSP5hn8xKvLaPQeUw5BcvOdQ3) unless interested in running the web scraping code.\n",
        "</font>"
      ]
    },
    {
      "cell_type": "code",
      "metadata": {
        "id": "-HPy1de7g48I"
      },
      "source": [
        "# # drop unnecessary columns and create new clean dataframe\n",
        "# temp_df = athlete_events_raw.drop(['NOC','Games','City', 'ID'], axis=1)  \n",
        "\n",
        "# # remove rows with no medals\n",
        "# temp_df.dropna(subset=['Medal'], inplace=True) \n",
        "\n",
        "# # keep rows of sports we're interested in\n",
        "# sports_list = ['Swimming', 'Athletics']\n",
        "\n",
        "# temp_df = temp_df[(temp_df.Sport.isin(sports_list))]\n",
        "\n",
        "# athlete_events = temp_df\n",
        "# variable_names = athlete_events.columns\n",
        "# nrows, ncols = athlete_events.shape"
      ],
      "execution_count": null,
      "outputs": []
    },
    {
      "cell_type": "code",
      "metadata": {
        "id": "tUSASBNtlXIV"
      },
      "source": [
        "# # install wikipedia package, run only once each runtime\n",
        "# !pip install wikipedia"
      ],
      "execution_count": null,
      "outputs": []
    },
    {
      "cell_type": "code",
      "metadata": {
        "id": "9FJ-oIohzUk9"
      },
      "source": [
        "# # finish webscraping ages of death, takes about 10 mins to run\n",
        "# import wikipedia\n",
        "# import numpy\n",
        "\n",
        "# wikipedia.set_rate_limiting(True) # limit queries to default once every 50 ms\n",
        "# unique_names = athlete_events.Name.unique()\n",
        "# temp_df = athlete_events.copy()\n",
        "\n",
        "# for name_raw in unique_names:\n",
        "#   # clean up the query string for better suggestion results\n",
        "#   name = name_raw.replace('\\\"',' ') # remove double quotes\n",
        "#   name = name.replace('(',' ') # remove parantheses\n",
        "#   name = name.replace(')',' ') # remove parantheses\n",
        "#   name = name.replace('-',' ') # remove hyphens\n",
        "#   try:\n",
        "#     wikipage = wikipedia.page(title=name, pageid = None, auto_suggest=True)\n",
        "#   except:\n",
        "#     # age of death not found, overwrite athlete's name with NaN in new dataframe\n",
        "#     temp_df.loc[athlete_events.Name == name_raw, 'Name'] = numpy.nan \n",
        "#     continue\n",
        "#   # if page is in, e.g., '1970 deaths' category\n",
        "#   if 'births' in wikipage.categories[0] and 'deaths' in wikipage.categories[1]: \n",
        "#     birth_year = int(wikipage.categories[0][0:4])\n",
        "#     death_year = int(wikipage.categories[1][0:4])\n",
        "#   else:\n",
        "#     birth_year = None\n",
        "#     death_year = None\n",
        "#   if birth_year and death_year:\n",
        "#     age_of_death = death_year-birth_year\n",
        "#     print(name,'age of death found...')\n",
        "#     # age of death found, overwrite athlete's name with age in new dataframe\n",
        "#     temp_df.loc[athlete_events.Name == name_raw, 'Name'] = age_of_death\n",
        "#   else:\n",
        "#     temp_df.loc[athlete_events.Name == name_raw, 'Name'] = numpy.nan \n",
        "    \n",
        "# ages_events = temp_df.rename(columns = {'Name': 'age_of_death'}) # rename Name column"
      ],
      "execution_count": null,
      "outputs": []
    },
    {
      "cell_type": "code",
      "metadata": {
        "id": "8wpE1VsE4dGy"
      },
      "source": [
        "# ages_events.dropna(subset=['age_of_death'], inplace=True)\n",
        "# # save scraping to file so don't have to redo\n",
        "# from google.colab import files\n",
        "\n",
        "# ages_events.to_csv('ages_events.csv')\n",
        "# files.download('ages_events.csv')"
      ],
      "execution_count": null,
      "outputs": []
    },
    {
      "cell_type": "markdown",
      "metadata": {
        "id": "a2HGU43jmm9g"
      },
      "source": [
        "##Answer "
      ]
    },
    {
      "cell_type": "markdown",
      "metadata": {
        "id": "gv8ODopNg48G"
      },
      "source": [
        "For our data set we decided to remove columns that did not pertain to our hypothesis. We decided to drop columns age, sex, generation, country-year since we did not believe that they were related to our hypothesis. We also removed rows with null data since this was not helpful for our analysis. \n",
        "\n",
        "***You can find a more indepth explanation following our code.***"
      ]
    },
    {
      "cell_type": "code",
      "metadata": {
        "id": "acheCdE9g475",
        "colab": {
          "base_uri": "https://localhost:8080/",
          "height": 697
        },
        "outputId": "99053cc5-309a-4e7a-d85f-0cff7ca85e6c"
      },
      "source": [
        "\n",
        "## Include code to wrangle your dataset in this cell\n",
        "## You'll likely have to import a package or two.\n",
        "## Refer back to the class notes if you're stuck,\n",
        "## work as a group to figure it out,\n",
        "## and/or search online for help.\n",
        "\n",
        "## Ensure that your objects and columns are well-named,\n",
        "## your code includes comments,\n",
        "## and that you have a tidy dataset to work with at the end of it\n",
        "\n",
        "\n",
        "# preview data\n",
        "print(suicide_data.head())\n",
        "print(suicide_data.tail())"
      ],
      "execution_count": null,
      "outputs": [
        {
          "output_type": "stream",
          "text": [
            "   country  year     sex          age  suicides_no  population  \\\n",
            "0  Albania  1987    male  15-24 years           21      312900   \n",
            "1  Albania  1987    male  35-54 years           16      308000   \n",
            "2  Albania  1987  female  15-24 years           14      289700   \n",
            "3  Albania  1987    male    75+ years            1       21800   \n",
            "4  Albania  1987    male  25-34 years            9      274300   \n",
            "\n",
            "   suicides/100k pop country-year  HDI for year  gdp_for_year ($)   \\\n",
            "0               6.71  Albania1987           NaN      2,156,624,900   \n",
            "1               5.19  Albania1987           NaN      2,156,624,900   \n",
            "2               4.83  Albania1987           NaN      2,156,624,900   \n",
            "3               4.59  Albania1987           NaN      2,156,624,900   \n",
            "4               3.28  Albania1987           NaN      2,156,624,900   \n",
            "\n",
            "   gdp_per_capita ($)       generation  \n",
            "0                 796     Generation X  \n",
            "1                 796           Silent  \n",
            "2                 796     Generation X  \n",
            "3                 796  G.I. Generation  \n",
            "4                 796          Boomers  \n",
            "          country  year     sex          age  suicides_no  population  \\\n",
            "27815  Uzbekistan  2014  female  35-54 years          107     3620833   \n",
            "27816  Uzbekistan  2014  female    75+ years            9      348465   \n",
            "27817  Uzbekistan  2014    male   5-14 years           60     2762158   \n",
            "27818  Uzbekistan  2014  female   5-14 years           44     2631600   \n",
            "27819  Uzbekistan  2014  female  55-74 years           21     1438935   \n",
            "\n",
            "       suicides/100k pop    country-year  HDI for year  gdp_for_year ($)   \\\n",
            "27815               2.96  Uzbekistan2014         0.675     63,067,077,179   \n",
            "27816               2.58  Uzbekistan2014         0.675     63,067,077,179   \n",
            "27817               2.17  Uzbekistan2014         0.675     63,067,077,179   \n",
            "27818               1.67  Uzbekistan2014         0.675     63,067,077,179   \n",
            "27819               1.46  Uzbekistan2014         0.675     63,067,077,179   \n",
            "\n",
            "       gdp_per_capita ($)    generation  \n",
            "27815                2309  Generation X  \n",
            "27816                2309        Silent  \n",
            "27817                2309  Generation Z  \n",
            "27818                2309  Generation Z  \n",
            "27819                2309       Boomers  \n"
          ],
          "name": "stdout"
        }
      ]
    },
    {
      "cell_type": "code",
      "metadata": {
        "id": "NFf9HSeonw0N",
        "colab": {
          "base_uri": "https://localhost:8080/",
          "height": 255
        },
        "outputId": "a7de260b-81ed-4641-84b1-67827256fe82"
      },
      "source": [
        "# get basic data info\n",
        "nrows, ncols = suicide_data.shape\n",
        "print(nrows,ncols)\n",
        "\n",
        "# identify data types for each variable\n",
        "print(suicide_data.dtypes)"
      ],
      "execution_count": null,
      "outputs": [
        {
          "output_type": "stream",
          "text": [
            "27820 12\n",
            "country                object\n",
            "year                    int64\n",
            "sex                    object\n",
            "age                    object\n",
            "suicides_no             int64\n",
            "population              int64\n",
            "suicides/100k pop     float64\n",
            "country-year           object\n",
            "HDI for year          float64\n",
            " gdp_for_year ($)      object\n",
            "gdp_per_capita ($)      int64\n",
            "generation             object\n",
            "dtype: object\n"
          ],
          "name": "stdout"
        }
      ]
    },
    {
      "cell_type": "code",
      "metadata": {
        "id": "wQUVBR4CnzMh",
        "colab": {
          "base_uri": "https://localhost:8080/",
          "height": 255
        },
        "outputId": "f01bdb04-99f6-407c-8f62-07bb7bbc0787"
      },
      "source": [
        "# drop unnecessary columns and create new clean dataframe\n",
        "temp_df = suicide_data.drop(['age','sex','generation', 'country-year'], axis=1)  \n",
        "\n",
        "# remove rows with no null data \n",
        "temp_df.dropna(subset=['HDI for year'], inplace=True) \n",
        "temp_df.dropna(subset=['suicides_no'], inplace=True) \n",
        "temp_df.dropna(subset=['gdp_per_capita ($)'], inplace=True) \n",
        "\n",
        "\n",
        "# set suicide data frame = to temporary data frame we just manipulated\n",
        "suicide_data = temp_df\n",
        "variable_names = suicide_data.columns\n",
        "nrows, ncols = suicide_data.shape\n",
        "\n",
        "# Sanity check on new number of columns / rows\n",
        "print(nrows,ncols)\n",
        "print(suicide_data.head())"
      ],
      "execution_count": null,
      "outputs": [
        {
          "output_type": "stream",
          "text": [
            "8364 8\n",
            "    country  year  suicides_no  population  suicides/100k pop  HDI for year  \\\n",
            "72  Albania  1995           13      232900               5.58         0.619   \n",
            "73  Albania  1995            9      178000               5.06         0.619   \n",
            "74  Albania  1995            2       40800               4.90         0.619   \n",
            "75  Albania  1995           13      283500               4.59         0.619   \n",
            "76  Albania  1995           11      241200               4.56         0.619   \n",
            "\n",
            "    gdp_for_year ($)   gdp_per_capita ($)  \n",
            "72      2,424,499,009                 835  \n",
            "73      2,424,499,009                 835  \n",
            "74      2,424,499,009                 835  \n",
            "75      2,424,499,009                 835  \n",
            "76      2,424,499,009                 835  \n"
          ],
          "name": "stdout"
        }
      ]
    },
    {
      "cell_type": "markdown",
      "metadata": {
        "id": "ppFzd5mDn1j-"
      },
      "source": [
        " <font color=\"#66B032\">Steps taken to wrangle data: \n",
        " \n",
        "  <font color=\"#66B032\">First thing we did was use pandas to read in our csv file. We had a lot of trouble at first reading in the data, but once we uploaded the csv to a github, it made reading it from the url a lot easier. \n",
        " \n",
        "  <font color=\"#66B032\">Next, we wanted to see exactly what data we were working with, and just as show in class, we printed the data's head, which is returns the first n rows of the data, which a default parameter of 5. Next, we did the same thing for the data's tail, which as one would expect, prints the last n rows of data, again following the same default value for n number of rows. \n",
        " \n",
        "  <font color=\"#66B032\">Next, we got the shape of our dataset and found our number of rows / columns. \n",
        " We have 27820 rows, and 12. \n",
        " \n",
        "  <font color=\"#66B032\">After which, we print our data types so we can see exactly what our database contains. From this, we can begin to elimate columns we deem unnecessary. In our case, we drop  the following: ['age','sex','generation', 'country-year'].\n",
        " \n",
        "  <font color=\"#66B032\">Next, we want to ensure that none of the data we work on is NULL, and to do this we remove any rows that have a null value for the HDI, suicide number, or year. \n",
        " \n",
        "  <font color=\"#66B032\">Because we did this is a temporary dataframe, we now must reset our inital suicide_data back to what we just manipulated. And again can print our head() and tail() for a sanity check.\n",
        " \n",
        " <font color=\"#66B032\"> Finally, we see exactly how many rows and columns we now have: 8364 rows, and 8 columns. "
      ]
    },
    {
      "cell_type": "markdown",
      "metadata": {
        "id": "01oGL6J6P0t2"
      },
      "source": [
        "# <font color=\"#347C98\">Exploratory Data Analysis</font>\n",
        "\n",
        "\n"
      ]
    },
    {
      "cell_type": "markdown",
      "metadata": {
        "id": "Ap7PN4DYjgIE"
      },
      "source": [
        "<font color=\"#347C98\"> Now that you have your data in a format that's easy to work with, you'll want to explore your dataset.<br><br>\n",
        "  \n",
        "For this exploratory data analysis, you must include at least three data displays that help you explore the variable(s) important for answering your data science question. At least one categorical and one continuous variable must be displayed. Data displays can be plots or tables. <br><br>\n",
        "  \n",
        "Be sure that your data displays are appropriate given your data. They do not have to be the *best* visualzation, but they do need to be well-labeled and use appropriate colors.<br><br>\n",
        " \n",
        "Additionally, each plot or table must include a brief interpretation of the data display.   \n",
        "    \n",
        "  \n",
        "<b>__12 pts (4pts per each data display)__</b>\n",
        "</font>"
      ]
    },
    {
      "cell_type": "markdown",
      "metadata": {
        "id": "lDyQ_VBNBmRY"
      },
      "source": [
        "## <font color=\"#66B032\">Example</font>"
      ]
    },
    {
      "cell_type": "code",
      "metadata": {
        "id": "HNNdTXqPVX1C",
        "colab": {
          "base_uri": "https://localhost:8080/",
          "height": 445
        },
        "outputId": "ce4c4b8c-c107-4f27-c0e7-33ca102bf857"
      },
      "source": [
        "import pandas\n",
        "t_url = 'https://raw.githubusercontent.com/rjkoepp/datasets/master/athlete_events.csv'\n",
        "ages_events = pandas.DataFrame(pandas.read_csv(t_url))\n",
        "# ages_events.drop(['Unnamed: 0'], axis=1,inplace=True) # remove old pandas index\n",
        "ages_events.head()"
      ],
      "execution_count": null,
      "outputs": [
        {
          "output_type": "execute_result",
          "data": {
            "text/html": [
              "<div>\n",
              "<style scoped>\n",
              "    .dataframe tbody tr th:only-of-type {\n",
              "        vertical-align: middle;\n",
              "    }\n",
              "\n",
              "    .dataframe tbody tr th {\n",
              "        vertical-align: top;\n",
              "    }\n",
              "\n",
              "    .dataframe thead th {\n",
              "        text-align: right;\n",
              "    }\n",
              "</style>\n",
              "<table border=\"1\" class=\"dataframe\">\n",
              "  <thead>\n",
              "    <tr style=\"text-align: right;\">\n",
              "      <th></th>\n",
              "      <th>ID</th>\n",
              "      <th>Name</th>\n",
              "      <th>Sex</th>\n",
              "      <th>Age</th>\n",
              "      <th>Height</th>\n",
              "      <th>Weight</th>\n",
              "      <th>Team</th>\n",
              "      <th>NOC</th>\n",
              "      <th>Games</th>\n",
              "      <th>Year</th>\n",
              "      <th>Season</th>\n",
              "      <th>City</th>\n",
              "      <th>Sport</th>\n",
              "      <th>Event</th>\n",
              "      <th>Medal</th>\n",
              "    </tr>\n",
              "  </thead>\n",
              "  <tbody>\n",
              "    <tr>\n",
              "      <th>0</th>\n",
              "      <td>1</td>\n",
              "      <td>A Dijiang</td>\n",
              "      <td>M</td>\n",
              "      <td>24.0</td>\n",
              "      <td>180.0</td>\n",
              "      <td>80.0</td>\n",
              "      <td>China</td>\n",
              "      <td>CHN</td>\n",
              "      <td>1992 Summer</td>\n",
              "      <td>1992</td>\n",
              "      <td>Summer</td>\n",
              "      <td>Barcelona</td>\n",
              "      <td>Basketball</td>\n",
              "      <td>Basketball Men's Basketball</td>\n",
              "      <td>NaN</td>\n",
              "    </tr>\n",
              "    <tr>\n",
              "      <th>1</th>\n",
              "      <td>2</td>\n",
              "      <td>A Lamusi</td>\n",
              "      <td>M</td>\n",
              "      <td>23.0</td>\n",
              "      <td>170.0</td>\n",
              "      <td>60.0</td>\n",
              "      <td>China</td>\n",
              "      <td>CHN</td>\n",
              "      <td>2012 Summer</td>\n",
              "      <td>2012</td>\n",
              "      <td>Summer</td>\n",
              "      <td>London</td>\n",
              "      <td>Judo</td>\n",
              "      <td>Judo Men's Extra-Lightweight</td>\n",
              "      <td>NaN</td>\n",
              "    </tr>\n",
              "    <tr>\n",
              "      <th>2</th>\n",
              "      <td>3</td>\n",
              "      <td>Gunnar Nielsen Aaby</td>\n",
              "      <td>M</td>\n",
              "      <td>24.0</td>\n",
              "      <td>NaN</td>\n",
              "      <td>NaN</td>\n",
              "      <td>Denmark</td>\n",
              "      <td>DEN</td>\n",
              "      <td>1920 Summer</td>\n",
              "      <td>1920</td>\n",
              "      <td>Summer</td>\n",
              "      <td>Antwerpen</td>\n",
              "      <td>Football</td>\n",
              "      <td>Football Men's Football</td>\n",
              "      <td>NaN</td>\n",
              "    </tr>\n",
              "    <tr>\n",
              "      <th>3</th>\n",
              "      <td>4</td>\n",
              "      <td>Edgar Lindenau Aabye</td>\n",
              "      <td>M</td>\n",
              "      <td>34.0</td>\n",
              "      <td>NaN</td>\n",
              "      <td>NaN</td>\n",
              "      <td>Denmark/Sweden</td>\n",
              "      <td>DEN</td>\n",
              "      <td>1900 Summer</td>\n",
              "      <td>1900</td>\n",
              "      <td>Summer</td>\n",
              "      <td>Paris</td>\n",
              "      <td>Tug-Of-War</td>\n",
              "      <td>Tug-Of-War Men's Tug-Of-War</td>\n",
              "      <td>Gold</td>\n",
              "    </tr>\n",
              "    <tr>\n",
              "      <th>4</th>\n",
              "      <td>5</td>\n",
              "      <td>Christine Jacoba Aaftink</td>\n",
              "      <td>F</td>\n",
              "      <td>21.0</td>\n",
              "      <td>185.0</td>\n",
              "      <td>82.0</td>\n",
              "      <td>Netherlands</td>\n",
              "      <td>NED</td>\n",
              "      <td>1988 Winter</td>\n",
              "      <td>1988</td>\n",
              "      <td>Winter</td>\n",
              "      <td>Calgary</td>\n",
              "      <td>Speed Skating</td>\n",
              "      <td>Speed Skating Women's 500 metres</td>\n",
              "      <td>NaN</td>\n",
              "    </tr>\n",
              "  </tbody>\n",
              "</table>\n",
              "</div>"
            ],
            "text/plain": [
              "   ID                      Name Sex   Age  Height  Weight            Team  \\\n",
              "0   1                 A Dijiang   M  24.0   180.0    80.0           China   \n",
              "1   2                  A Lamusi   M  23.0   170.0    60.0           China   \n",
              "2   3       Gunnar Nielsen Aaby   M  24.0     NaN     NaN         Denmark   \n",
              "3   4      Edgar Lindenau Aabye   M  34.0     NaN     NaN  Denmark/Sweden   \n",
              "4   5  Christine Jacoba Aaftink   F  21.0   185.0    82.0     Netherlands   \n",
              "\n",
              "   NOC        Games  Year  Season       City          Sport  \\\n",
              "0  CHN  1992 Summer  1992  Summer  Barcelona     Basketball   \n",
              "1  CHN  2012 Summer  2012  Summer     London           Judo   \n",
              "2  DEN  1920 Summer  1920  Summer  Antwerpen       Football   \n",
              "3  DEN  1900 Summer  1900  Summer      Paris     Tug-Of-War   \n",
              "4  NED  1988 Winter  1988  Winter    Calgary  Speed Skating   \n",
              "\n",
              "                              Event Medal  \n",
              "0       Basketball Men's Basketball   NaN  \n",
              "1      Judo Men's Extra-Lightweight   NaN  \n",
              "2           Football Men's Football   NaN  \n",
              "3       Tug-Of-War Men's Tug-Of-War  Gold  \n",
              "4  Speed Skating Women's 500 metres   NaN  "
            ]
          },
          "metadata": {
            "tags": []
          },
          "execution_count": 64
        }
      ]
    },
    {
      "cell_type": "markdown",
      "metadata": {
        "id": "tY2XGr_-W5aN"
      },
      "source": [
        "<font color=\"#66B032\">The numerical variables are summarized in the table below. We managed to scrape 1499 athletes after reducing the data quite a bit already. We can see that the average age of death of athletes who won medals in the Olympics within swimming and athletics is 70.11 years. The current average lifespan in the USA is 78.69 years, according to Google. The difference here is likely due to when the athletes were alive; the records that we managed to scrape athletes for date back to 1896, which presumably had a much lower life expectancy."
      ]
    },
    {
      "cell_type": "code",
      "metadata": {
        "id": "fGDXwlefUIZK",
        "colab": {
          "base_uri": "https://localhost:8080/",
          "height": 317
        },
        "outputId": "91e17c64-2b1e-4c2f-979e-f5c4f7bbcc3a"
      },
      "source": [
        "ages_events.describe()"
      ],
      "execution_count": null,
      "outputs": [
        {
          "output_type": "execute_result",
          "data": {
            "text/html": [
              "<div>\n",
              "<style scoped>\n",
              "    .dataframe tbody tr th:only-of-type {\n",
              "        vertical-align: middle;\n",
              "    }\n",
              "\n",
              "    .dataframe tbody tr th {\n",
              "        vertical-align: top;\n",
              "    }\n",
              "\n",
              "    .dataframe thead th {\n",
              "        text-align: right;\n",
              "    }\n",
              "</style>\n",
              "<table border=\"1\" class=\"dataframe\">\n",
              "  <thead>\n",
              "    <tr style=\"text-align: right;\">\n",
              "      <th></th>\n",
              "      <th>ID</th>\n",
              "      <th>Age</th>\n",
              "      <th>Height</th>\n",
              "      <th>Weight</th>\n",
              "      <th>Year</th>\n",
              "    </tr>\n",
              "  </thead>\n",
              "  <tbody>\n",
              "    <tr>\n",
              "      <th>count</th>\n",
              "      <td>271116.000000</td>\n",
              "      <td>261642.000000</td>\n",
              "      <td>210945.000000</td>\n",
              "      <td>208241.000000</td>\n",
              "      <td>271116.000000</td>\n",
              "    </tr>\n",
              "    <tr>\n",
              "      <th>mean</th>\n",
              "      <td>68248.954396</td>\n",
              "      <td>25.556898</td>\n",
              "      <td>175.338970</td>\n",
              "      <td>70.702393</td>\n",
              "      <td>1978.378480</td>\n",
              "    </tr>\n",
              "    <tr>\n",
              "      <th>std</th>\n",
              "      <td>39022.286345</td>\n",
              "      <td>6.393561</td>\n",
              "      <td>10.518462</td>\n",
              "      <td>14.348020</td>\n",
              "      <td>29.877632</td>\n",
              "    </tr>\n",
              "    <tr>\n",
              "      <th>min</th>\n",
              "      <td>1.000000</td>\n",
              "      <td>10.000000</td>\n",
              "      <td>127.000000</td>\n",
              "      <td>25.000000</td>\n",
              "      <td>1896.000000</td>\n",
              "    </tr>\n",
              "    <tr>\n",
              "      <th>25%</th>\n",
              "      <td>34643.000000</td>\n",
              "      <td>21.000000</td>\n",
              "      <td>168.000000</td>\n",
              "      <td>60.000000</td>\n",
              "      <td>1960.000000</td>\n",
              "    </tr>\n",
              "    <tr>\n",
              "      <th>50%</th>\n",
              "      <td>68205.000000</td>\n",
              "      <td>24.000000</td>\n",
              "      <td>175.000000</td>\n",
              "      <td>70.000000</td>\n",
              "      <td>1988.000000</td>\n",
              "    </tr>\n",
              "    <tr>\n",
              "      <th>75%</th>\n",
              "      <td>102097.250000</td>\n",
              "      <td>28.000000</td>\n",
              "      <td>183.000000</td>\n",
              "      <td>79.000000</td>\n",
              "      <td>2002.000000</td>\n",
              "    </tr>\n",
              "    <tr>\n",
              "      <th>max</th>\n",
              "      <td>135571.000000</td>\n",
              "      <td>97.000000</td>\n",
              "      <td>226.000000</td>\n",
              "      <td>214.000000</td>\n",
              "      <td>2016.000000</td>\n",
              "    </tr>\n",
              "  </tbody>\n",
              "</table>\n",
              "</div>"
            ],
            "text/plain": [
              "                  ID            Age         Height         Weight  \\\n",
              "count  271116.000000  261642.000000  210945.000000  208241.000000   \n",
              "mean    68248.954396      25.556898     175.338970      70.702393   \n",
              "std     39022.286345       6.393561      10.518462      14.348020   \n",
              "min         1.000000      10.000000     127.000000      25.000000   \n",
              "25%     34643.000000      21.000000     168.000000      60.000000   \n",
              "50%     68205.000000      24.000000     175.000000      70.000000   \n",
              "75%    102097.250000      28.000000     183.000000      79.000000   \n",
              "max    135571.000000      97.000000     226.000000     214.000000   \n",
              "\n",
              "                Year  \n",
              "count  271116.000000  \n",
              "mean     1978.378480  \n",
              "std        29.877632  \n",
              "min      1896.000000  \n",
              "25%      1960.000000  \n",
              "50%      1988.000000  \n",
              "75%      2002.000000  \n",
              "max      2016.000000  "
            ]
          },
          "metadata": {
            "tags": []
          },
          "execution_count": 65
        }
      ]
    },
    {
      "cell_type": "markdown",
      "metadata": {
        "id": "KWyfsIYLX5QU"
      },
      "source": [
        "<font color=\"#66B032\">Below shows quick histograms of the numerical variables. Weight and height seem relatively normally distributed. Weight is skewed to the right, suggesting we might have some outliers to consider. Interestingly, at least for the athletes that we scraped, nearly half were in their early 20's when competing. It seems very rare for there to be athletes over 40 competing and winning medals. As for age of death, the ages are skewed left as is expected for this kind of variable.  For the Year variable, there is a prominent bump around 1925 that is unusual. Considering that we're only looking at dead athletes, it seems many of these dead athletes competed around 1925. Considering the young age of Olympic athletes, many of them would still be well capable of fighting in WW2, especially after their Olympic competing days are over. It's only a hypothesis, but would be nice to find out what is causing this peak."
      ]
    },
    {
      "cell_type": "code",
      "metadata": {
        "id": "I2aox9xYO5MX",
        "colab": {
          "base_uri": "https://localhost:8080/",
          "height": 382
        },
        "outputId": "f9b7fe53-8df4-43ae-c8d7-b2b4fef33534"
      },
      "source": [
        "ages_events.hist();"
      ],
      "execution_count": null,
      "outputs": [
        {
          "output_type": "display_data",
          "data": {
            "image/png": "[encoded data removed]",
            "text/plain": [
              "<Figure size 576x396 with 6 Axes>"
            ]
          },
          "metadata": {
            "tags": []
          }
        }
      ]
    },
    {
      "cell_type": "markdown",
      "metadata": {
        "id": "Amq40O8MZx2N"
      },
      "source": [
        "<font color=\"#66B032\">The bar chart below shows that Athletics are overrepresented in this sample.  It might be good to go back and check to see the proportion of Swimming vs Athletics athletes that are still alive. Perhaps many of the swimmers are still alive making an assessment of age of death skewed without proper sampling."
      ]
    },
    {
      "cell_type": "code",
      "metadata": {
        "id": "vba58RrrPBGe",
        "colab": {
          "base_uri": "https://localhost:8080/",
          "height": 476
        },
        "outputId": "3f216ee2-e654-47c0-9e3c-e2a11cbcb76d"
      },
      "source": [
        "ages_events['Sport'].value_counts().plot(kind='bar');"
      ],
      "execution_count": null,
      "outputs": [
        {
          "output_type": "display_data",
          "data": {
            "image/png": "[encoded data removed]",
            "text/plain": [
              "<Figure size 576x396 with 1 Axes>"
            ]
          },
          "metadata": {
            "tags": []
          }
        }
      ]
    },
    {
      "cell_type": "markdown",
      "metadata": {
        "id": "ngFN421baYaF"
      },
      "source": [
        "<font color=\"#66B032\">The vast majority of dead Olympic athletes are men."
      ]
    },
    {
      "cell_type": "code",
      "metadata": {
        "id": "RdNhwJaKSPV0",
        "colab": {
          "base_uri": "https://localhost:8080/",
          "height": 365
        },
        "outputId": "83dd9d84-b5d2-4f1a-da5a-cb3d372f1f60"
      },
      "source": [
        "ages_events['Sex'].value_counts().plot(kind='bar');"
      ],
      "execution_count": null,
      "outputs": [
        {
          "output_type": "display_data",
          "data": {
            "image/png": "[encoded data removed]",
            "text/plain": [
              "<Figure size 576x396 with 1 Axes>"
            ]
          },
          "metadata": {
            "tags": []
          }
        }
      ]
    },
    {
      "cell_type": "markdown",
      "metadata": {
        "id": "lUYU4Ll9ahY5"
      },
      "source": [
        "<font color=\"#66B032\">Below, we see that the USA has the most medals won; at least pertaining to dead athletes."
      ]
    },
    {
      "cell_type": "code",
      "metadata": {
        "id": "X5mTYtO9UTpq",
        "colab": {
          "base_uri": "https://localhost:8080/",
          "height": 417
        },
        "outputId": "d52fa2a6-572c-4175-a2f7-a74fa3cfe68a"
      },
      "source": [
        "ages_events['Team'].value_counts().nlargest(10).plot(kind='bar');"
      ],
      "execution_count": null,
      "outputs": [
        {
          "output_type": "display_data",
          "data": {
            "image/png": "[encoded data removed]",
            "text/plain": [
              "<Figure size 576x396 with 1 Axes>"
            ]
          },
          "metadata": {
            "tags": []
          }
        }
      ]
    },
    {
      "cell_type": "markdown",
      "metadata": {
        "id": "s8b6Fqq1a3N-"
      },
      "source": [
        "<font color=\"#66B032\">Below we see that there's a good mix of Swimming and Athletics events in this sample at the higher end of number of competitors, but the lower end begins to show Athletics overrepresentation."
      ]
    },
    {
      "cell_type": "code",
      "metadata": {
        "id": "-5CsnNJ1VRGU",
        "colab": {
          "base_uri": "https://localhost:8080/",
          "height": 535
        },
        "outputId": "43e87b63-a11a-46c2-fa30-c5b27dfc81ee"
      },
      "source": [
        "ages_events['Event'].value_counts().nlargest(10).plot(kind='bar');"
      ],
      "execution_count": null,
      "outputs": [
        {
          "output_type": "display_data",
          "data": {
            "image/png": "[encoded data removed]",
            "text/plain": [
              "<Figure size 576x396 with 1 Axes>"
            ]
          },
          "metadata": {
            "tags": []
          }
        }
      ]
    },
    {
      "cell_type": "markdown",
      "metadata": {
        "id": "dtvHuSpnbSf9"
      },
      "source": [
        "<font color=\"#66B032\">Interestingly, Swimming seems to have a much larger ratio of female to male competitors. Considering the lifespan of females is usually longer, we may have to keep Sex in mind as a confound."
      ]
    },
    {
      "cell_type": "code",
      "metadata": {
        "id": "XwDYIPP7Wk5a"
      },
      "source": [
        "# pandas.crosstab(ages_events.Sport,ages_events.Sex)"
      ],
      "execution_count": null,
      "outputs": []
    },
    {
      "cell_type": "markdown",
      "metadata": {
        "id": "MC1vgqgObnfe"
      },
      "source": [
        "<font color=\"#66B032\">We were anxious to see some early results to compare the age_of_death between Atheltics and Swimming. These distributions do seem to have different centers and shapes, but we'd need to do statistics to really compare. Interestingly, Athletics seems to have a longer median lifespan, despite the greater proportion of men."
      ]
    },
    {
      "cell_type": "code",
      "metadata": {
        "id": "r67_9QD_TbyH"
      },
      "source": [
        "# ages_events.boxplot(column=['age_of_death'], by='Sport');"
      ],
      "execution_count": null,
      "outputs": []
    },
    {
      "cell_type": "markdown",
      "metadata": {
        "id": "N5yzlOUfcCYO"
      },
      "source": [
        "<font color=\"#66B032\">Athletics athletes tend to weigh less, which might contribute to the age of death disparity, as well. Clearly we'll need a multivariate model to really understand the relationships among the variables."
      ]
    },
    {
      "cell_type": "code",
      "metadata": {
        "id": "kHhGme5NT0Zr",
        "colab": {
          "base_uri": "https://localhost:8080/",
          "height": 411
        },
        "outputId": "f3cdb86b-aaac-41c0-9a2b-8ab80c5cd94b"
      },
      "source": [
        "boxplot = ages_events.boxplot(column=['Weight'], by='Sport');"
      ],
      "execution_count": null,
      "outputs": [
        {
          "output_type": "display_data",
          "data": {
            "image/png": "[encoded data removed]",
            "text/plain": [
              "<Figure size 576x396 with 1 Axes>"
            ]
          },
          "metadata": {
            "tags": []
          }
        }
      ]
    },
    {
      "cell_type": "markdown",
      "metadata": {
        "id": "XUVO8QWXBs60"
      },
      "source": [
        "## Answer ( click cell below to edit)\n"
      ]
    },
    {
      "cell_type": "code",
      "metadata": {
        "id": "by1k6-HhVbHi",
        "colab": {
          "base_uri": "https://localhost:8080/",
          "height": 725
        },
        "outputId": "6fd0e4e5-8be2-4e01-8088-dcb3bd864ada"
      },
      "source": [
        "# suicide_data.plot(x='HDI for year',y='suicides/100k pop', kind = 'barh')\n",
        "# suicide_data.plot.bar(x='HDI for year',y='suicides/100k pop',rot=0)\n",
        "# suicide_data.hist()\n",
        "suicide_data.hist(alpha=0.5, figsize=(20, 10))\n"
      ],
      "execution_count": null,
      "outputs": [
        {
          "output_type": "execute_result",
          "data": {
            "text/plain": [
              "array([[<matplotlib.axes._subplots.AxesSubplot object at 0x7f9150c2fcc0>,\n",
              "        <matplotlib.axes._subplots.AxesSubplot object at 0x7f9150beada0>],\n",
              "       [<matplotlib.axes._subplots.AxesSubplot object at 0x7f9150b4a438>,\n",
              "        <matplotlib.axes._subplots.AxesSubplot object at 0x7f9150b5ca90>],\n",
              "       [<matplotlib.axes._subplots.AxesSubplot object at 0x7f9150b92160>,\n",
              "        <matplotlib.axes._subplots.AxesSubplot object at 0x7f9150bb4780>]],\n",
              "      dtype=object)"
            ]
          },
          "metadata": {
            "tags": []
          },
          "execution_count": 74
        },
        {
          "output_type": "display_data",
          "data": {
            "image/png": "[encoded data removed]",
            "text/plain": [
              "<Figure size 1440x720 with 6 Axes>"
            ]
          },
          "metadata": {
            "tags": []
          }
        }
      ]
    },
    {
      "cell_type": "markdown",
      "metadata": {
        "id": "W2B_2t08RrSZ"
      },
      "source": [
        "<font color=\"#66B032\">As recommended by a TA, above we are printing the histograms of the different numerical variables. \n",
        " \n",
        "  \n",
        "<font color=\"#66B032\">We can see that a lot of the graphs are right skwewed, 'suicide_no', 'suicides / 100k pop', 'population', 'gdp_per_capita', this tells us that we should investigate further for potential outliers.  We can also see that suicide numbers have risen in the past couple of years. It would be interesting to note if our hypothesis holds true with there existing a correlation with HDI and GDP."
      ]
    },
    {
      "cell_type": "code",
      "metadata": {
        "id": "9iT-H5gCD662",
        "colab": {
          "base_uri": "https://localhost:8080/",
          "height": 647
        },
        "outputId": "2bbb6a3a-a0f0-4249-aa06-5cc47eba9d35"
      },
      "source": [
        "# Trying to apply log transformation to the above graphs \n",
        "# suicide_data.plot.hist(logx=True, alpha=0.5, figsize=(20, 10))\n",
        "\n",
        "import pandas as pd\n",
        "import numpy as np\n",
        "import matplotlib.pyplot as plt\n",
        "\n",
        "a = pd.Series(suicide_data['gdp_per_capita ($)'])\n",
        "# b = pd.Series(suicide_data['HDI for year'])\n",
        "c = pd.Series(suicide_data['population'])\n",
        "d = pd.Series(suicide_data['suicides/100k pop'])\n",
        "e = pd.Series(suicide_data['suicides_no'])\n",
        "# f = pd.Series(suicide_data['year'])\n",
        "# # histogram on linear scale\n",
        "# plt.subplot(211)\n",
        "# hist, bins, _ = plt.hist(a, bins=8)\n",
        "\n",
        "# histogram on log scale. \n",
        "# Use non-equal bin sizes, such that they look equal on log scale.\n",
        "fig = plt.figure()\n",
        "\n",
        "logbins = np.logspace(np.log10(bins[0]),np.log10(bins[-1]),len(bins))\n",
        "plt.subplot(211)\n",
        "plt.hist(a, bins=logbins)\n",
        "plt.xscale('log')\n",
        "fig.suptitle('GDP Per Capita ($)', fontsize=20)\n",
        "plt.show()\n",
        "\n",
        "\n",
        "fig = plt.figure()\n",
        "plt.subplot(211)\n",
        "plt.hist(c, bins=logbins)\n",
        "plt.xscale('log')\n",
        "fig.suptitle('population', fontsize=20)\n",
        "plt.show()\n",
        "\n",
        "\n",
        "# fig = plt.figure()\n",
        "# plt.subplot(211)\n",
        "# plt.hist(d, bins=logbins)\n",
        "# plt.xscale('log')\n",
        "# fig.suptitle('suicides/100k pop', fontsize=20)\n",
        "# plt.show()\n",
        "\n",
        "\n",
        "fig = plt.figure()\n",
        "plt.subplot(211)\n",
        "plt.hist(e, bins=logbins)\n",
        "plt.xscale('log')\n",
        "fig.suptitle('suicides_no', fontsize=20)\n",
        "plt.show()\n",
        "\n"
      ],
      "execution_count": null,
      "outputs": [
        {
          "output_type": "display_data",
          "data": {
            "image/png": "[encoded data removed]",
            "text/plain": [
              "<Figure size 576x396 with 1 Axes>"
            ]
          },
          "metadata": {
            "tags": []
          }
        },
        {
          "output_type": "display_data",
          "data": {
            "image/png": "[encoded data removed]",
            "text/plain": [
              "<Figure size 576x396 with 1 Axes>"
            ]
          },
          "metadata": {
            "tags": []
          }
        },
        {
          "output_type": "display_data",
          "data": {
            "image/png": "[encoded data removed]",
            "text/plain": [
              "<Figure size 576x396 with 1 Axes>"
            ]
          },
          "metadata": {
            "tags": []
          }
        }
      ]
    },
    {
      "cell_type": "markdown",
      "metadata": {
        "id": "lX5RWQUkJMG6"
      },
      "source": [
        "<font color=\"#66B032\">Knowing that our data is not normal (as shown with our first histograms), we applied a log transformation to see if this would indicate whether or data was log normal. However, we can see that this only only helps to normalize the GDP Per Capita, with the other data points still remaining skewed. \n",
        "  \n",
        "<font color=\"#66B032\">For our data that is not log normal, we would need to explore other methods, one that comes to mind is a Quantile Transform, which converts arbitrary distributions to normal. With that though, we also lose some of the original data which we'd hope to not have to do."
      ]
    },
    {
      "cell_type": "code",
      "metadata": {
        "id": "MtA2K4vuLSCF",
        "colab": {
          "base_uri": "https://localhost:8080/",
          "height": 714
        },
        "outputId": "93ace71c-2d6b-49cc-d91e-2165f2c02f86"
      },
      "source": [
        "suicide_data['country'].value_counts().plot(figsize=(20, 10), kind='bar');"
      ],
      "execution_count": null,
      "outputs": [
        {
          "output_type": "display_data",
          "data": {
            "image/png": "[encoded data removed]",
            "text/plain": [
              "<Figure size 1440x720 with 1 Axes>"
            ]
          },
          "metadata": {
            "tags": []
          }
        }
      ]
    },
    {
      "cell_type": "markdown",
      "metadata": {
        "id": "9UeOKR1cwZEe"
      },
      "source": [
        "<font color=\"#66B032\">From the bar chart above, which is sorted by country, we are counting the number of times the country appears in the dataset. With this, we can see that some countries appear more often in the dataset than others. This may pose an issue if a country that performs as an outliers dominates the dataset in terms of occurences. \n",
        "\n"
      ]
    },
    {
      "cell_type": "code",
      "metadata": {
        "id": "FlpCCgWE0VPW",
        "colab": {
          "base_uri": "https://localhost:8080/",
          "height": 415
        },
        "outputId": "8162da82-8f91-43d2-eca6-40946b672370"
      },
      "source": [
        "# print('er')\n",
        "suicide_data.plot(x='gdp_per_capita ($)',y='suicides/100k pop', kind='scatter')"
      ],
      "execution_count": null,
      "outputs": [
        {
          "output_type": "stream",
          "text": [
            "'c' argument looks like a single numeric RGB or RGBA sequence, which should be avoided as value-mapping will have precedence in case its length matches with 'x' & 'y'.  Please use a 2-D array with a single row if you really want to specify the same RGB or RGBA value for all points.\n"
          ],
          "name": "stderr"
        },
        {
          "output_type": "execute_result",
          "data": {
            "text/plain": [
              "<matplotlib.axes._subplots.AxesSubplot at 0x7f91515142e8>"
            ]
          },
          "metadata": {
            "tags": []
          },
          "execution_count": 77
        },
        {
          "output_type": "display_data",
          "data": {
            "image/png": "[encoded data removed]",
            "text/plain": [
              "<Figure size 576x396 with 1 Axes>"
            ]
          },
          "metadata": {
            "tags": []
          }
        }
      ]
    },
    {
      "cell_type": "markdown",
      "metadata": {
        "id": "pjLbpXWIKVP0"
      },
      "source": [
        "<font color=\"#66B032\">There is a large correlation between a low gdp per capita and high suicide rates where the suicide rates peak at around 10,000 gdp per capita and continue to decrease as the gdp per capita increases.\n"
      ]
    },
    {
      "cell_type": "code",
      "metadata": {
        "id": "XR6boeEa5oF8",
        "colab": {
          "base_uri": "https://localhost:8080/",
          "height": 646
        },
        "outputId": "ae307a35-e968-44e8-971f-fc2261622fc0"
      },
      "source": [
        "# We plan in our final report to try and create a bar graph that uses different\n",
        "# bins of gps for which we can more accurately compare \n",
        "\n",
        "suicide_data.plot(x='gdp_per_capita ($)', y='suicides/100k pop', \n",
        "                  figsize=(20, 10), kind='bar')\n",
        "\n",
        "# suicide_data.plot(x='gdp_per_capita ($)', y='suicides/100k pop', \n",
        "#                   figsize=(20, 10), kind='bar')\n",
        "\n",
        "# suicide_data.plot(x='gdp_per_capita ($)', y='suicides/100k pop', \n",
        "#                   figsize=(200, 100), kind='bar')"
      ],
      "execution_count": null,
      "outputs": [
        {
          "output_type": "execute_result",
          "data": {
            "text/plain": [
              "<matplotlib.axes._subplots.AxesSubplot at 0x7f9154503b38>"
            ]
          },
          "metadata": {
            "tags": []
          },
          "execution_count": 78
        },
        {
          "output_type": "display_data",
          "data": {
            "image/png": "[encoded data removed]",
            "text/plain": [
              "<Figure size 1440x720 with 1 Axes>"
            ]
          },
          "metadata": {
            "tags": []
          }
        }
      ]
    },
    {
      "cell_type": "markdown",
      "metadata": {
        "id": "Cor3AZSCKYK1"
      },
      "source": [
        "<font color=\"#66B032\"> While exploring our data, we saw first hand how some graphs are illfit to represent certain data. This is the same data represented by our scatter plot in bar graph form, and we can see that the distinction of gdps makes the chart all but useless. We decided to leave this graph in here as it is an interesting reminder of how important choosing the right tools to represent ones data is. "
      ]
    },
    {
      "cell_type": "code",
      "metadata": {
        "id": "pPSkORxBIq5a",
        "colab": {
          "base_uri": "https://localhost:8080/",
          "height": 349
        },
        "outputId": "6f4fd799-d0c4-4f9c-ab05-6ac0b35f8f81"
      },
      "source": [
        "import seaborn as sns\n",
        "import matplotlib.pyplot as plt\n",
        "\n",
        "\n",
        "# grouping by each country, find the mean # of suicides per 100k pop\n",
        "mean_suicides = pd.DataFrame(suicide_data['suicides/100k pop'].groupby(\n",
        "    suicide_data['country']).mean())\n",
        "\n",
        "# When the index needs to be reset to default\n",
        "mean_suicides = mean_suicides.reset_index()\n",
        "\n",
        "# Get top 5 countries with suicide rate for display\n",
        "top_suicides = mean_suicides.sort_index(\n",
        "    by='suicides/100k pop', ascending=False).head(5)\n",
        "\n",
        "\n",
        "fig = plt.figure(figsize=(10,5))\n",
        "plt.title('suicides/100k population')\n",
        "\n",
        "# plots sns\n",
        "sns.barplot(y='suicides/100k pop',x='country',data=top_suicides);\n"
      ],
      "execution_count": null,
      "outputs": [
        {
          "output_type": "display_data",
          "data": {
            "image/png": "[encoded data removed]",
            "text/plain": [
              "<Figure size 720x360 with 1 Axes>"
            ]
          },
          "metadata": {
            "tags": []
          }
        }
      ]
    },
    {
      "cell_type": "markdown",
      "metadata": {
        "id": "X9LJCMXrJWke"
      },
      "source": [
        "<font color=\"#66B032\">The graph above shows the countries with the highest mean of suicides per 100k people. As we continue to anaylze data, we can compare these countries HDI and GDP, to see whether or not our hypothesis is supported."
      ]
    },
    {
      "cell_type": "code",
      "metadata": {
        "id": "XZqLkD9NUDV9",
        "colab": {
          "base_uri": "https://localhost:8080/",
          "height": 297
        },
        "outputId": "e61e3445-9160-4b68-bd2e-e3b1197e2591"
      },
      "source": [
        "suicide_data.describe()"
      ],
      "execution_count": null,
      "outputs": [
        {
          "output_type": "execute_result",
          "data": {
            "text/html": [
              "<div>\n",
              "<style scoped>\n",
              "    .dataframe tbody tr th:only-of-type {\n",
              "        vertical-align: middle;\n",
              "    }\n",
              "\n",
              "    .dataframe tbody tr th {\n",
              "        vertical-align: top;\n",
              "    }\n",
              "\n",
              "    .dataframe thead th {\n",
              "        text-align: right;\n",
              "    }\n",
              "</style>\n",
              "<table border=\"1\" class=\"dataframe\">\n",
              "  <thead>\n",
              "    <tr style=\"text-align: right;\">\n",
              "      <th></th>\n",
              "      <th>year</th>\n",
              "      <th>suicides_no</th>\n",
              "      <th>population</th>\n",
              "      <th>suicides/100k pop</th>\n",
              "      <th>HDI for year</th>\n",
              "      <th>gdp_per_capita ($)</th>\n",
              "    </tr>\n",
              "  </thead>\n",
              "  <tbody>\n",
              "    <tr>\n",
              "      <th>count</th>\n",
              "      <td>8364.000000</td>\n",
              "      <td>8364.000000</td>\n",
              "      <td>8.364000e+03</td>\n",
              "      <td>8364.000000</td>\n",
              "      <td>8364.000000</td>\n",
              "      <td>8364.000000</td>\n",
              "    </tr>\n",
              "    <tr>\n",
              "      <th>mean</th>\n",
              "      <td>2005.348637</td>\n",
              "      <td>206.124342</td>\n",
              "      <td>1.852173e+06</td>\n",
              "      <td>11.991936</td>\n",
              "      <td>0.776601</td>\n",
              "      <td>21074.371593</td>\n",
              "    </tr>\n",
              "    <tr>\n",
              "      <th>std</th>\n",
              "      <td>8.803020</td>\n",
              "      <td>681.004457</td>\n",
              "      <td>3.969754e+06</td>\n",
              "      <td>17.361772</td>\n",
              "      <td>0.093367</td>\n",
              "      <td>22579.186968</td>\n",
              "    </tr>\n",
              "    <tr>\n",
              "      <th>min</th>\n",
              "      <td>1985.000000</td>\n",
              "      <td>0.000000</td>\n",
              "      <td>8.750000e+02</td>\n",
              "      <td>0.000000</td>\n",
              "      <td>0.483000</td>\n",
              "      <td>313.000000</td>\n",
              "    </tr>\n",
              "    <tr>\n",
              "      <th>25%</th>\n",
              "      <td>2000.000000</td>\n",
              "      <td>3.000000</td>\n",
              "      <td>1.216425e+05</td>\n",
              "      <td>1.040000</td>\n",
              "      <td>0.713000</td>\n",
              "      <td>4862.000000</td>\n",
              "    </tr>\n",
              "    <tr>\n",
              "      <th>50%</th>\n",
              "      <td>2010.000000</td>\n",
              "      <td>27.000000</td>\n",
              "      <td>4.722505e+05</td>\n",
              "      <td>5.720000</td>\n",
              "      <td>0.779000</td>\n",
              "      <td>12584.000000</td>\n",
              "    </tr>\n",
              "    <tr>\n",
              "      <th>75%</th>\n",
              "      <td>2012.000000</td>\n",
              "      <td>127.250000</td>\n",
              "      <td>1.500290e+06</td>\n",
              "      <td>15.442500</td>\n",
              "      <td>0.855000</td>\n",
              "      <td>30271.000000</td>\n",
              "    </tr>\n",
              "    <tr>\n",
              "      <th>max</th>\n",
              "      <td>2014.000000</td>\n",
              "      <td>11767.000000</td>\n",
              "      <td>4.350934e+07</td>\n",
              "      <td>187.060000</td>\n",
              "      <td>0.944000</td>\n",
              "      <td>126352.000000</td>\n",
              "    </tr>\n",
              "  </tbody>\n",
              "</table>\n",
              "</div>"
            ],
            "text/plain": [
              "              year   suicides_no    population  suicides/100k pop  \\\n",
              "count  8364.000000   8364.000000  8.364000e+03        8364.000000   \n",
              "mean   2005.348637    206.124342  1.852173e+06          11.991936   \n",
              "std       8.803020    681.004457  3.969754e+06          17.361772   \n",
              "min    1985.000000      0.000000  8.750000e+02           0.000000   \n",
              "25%    2000.000000      3.000000  1.216425e+05           1.040000   \n",
              "50%    2010.000000     27.000000  4.722505e+05           5.720000   \n",
              "75%    2012.000000    127.250000  1.500290e+06          15.442500   \n",
              "max    2014.000000  11767.000000  4.350934e+07         187.060000   \n",
              "\n",
              "       HDI for year  gdp_per_capita ($)  \n",
              "count   8364.000000         8364.000000  \n",
              "mean       0.776601        21074.371593  \n",
              "std        0.093367        22579.186968  \n",
              "min        0.483000          313.000000  \n",
              "25%        0.713000         4862.000000  \n",
              "50%        0.779000        12584.000000  \n",
              "75%        0.855000        30271.000000  \n",
              "max        0.944000       126352.000000  "
            ]
          },
          "metadata": {
            "tags": []
          },
          "execution_count": 80
        }
      ]
    },
    {
      "cell_type": "markdown",
      "metadata": {
        "id": "kcJAlE8-9Paw"
      },
      "source": [
        "<font color=\"#66B032\">The mean of suicides per 100k pop is 12.816 and if we observe the graph scatterplot of gdp_per_capita($) vs suicides/100k pop the mean is clearly above 12.816"
      ]
    },
    {
      "cell_type": "markdown",
      "metadata": {
        "id": "S8oqEVxZcPFM"
      },
      "source": [
        "# <font color=\"#347C98\">Analysis Proposal</font>"
      ]
    },
    {
      "cell_type": "markdown",
      "metadata": {
        "id": "eNMhiaqfcs1c"
      },
      "source": [
        "<font color=\"#347C98\"> \n",
        "In this well thought-out section you will propose <i>how</i> you would analyze these data but are not required to carry out the analysis.<br><br>\n",
        "\n",
        "Here, you will:\n",
        "   <ul><font color=\"#347C98\"> \n",
        "  <li> describe in detail what type of analysis you would do to answer your question of interest</li>\n",
        "  <li>explain how you would interpret the results from this analysis</li>\n",
        "  <li>discuss limitations to your analysis. (i.e. Are there variables you don't have measured that would be important to the analysis? Confounders? Sample size limitations? Biases in your data? Additional limitations?)</li></font>\n",
        "</ul><br>\n",
        "\n",
        "Here, we are looking for the correct conceptual understanding and application of these ideas, not technical specifics of how you would implement the approach . For example, if you are proposing applying machine learning to categorical data, it’s important to specify whether you will be performing regression or classification. It is not important to discuss what technology specifically you would use.<br><br>\n",
        "\n",
        "Note that you do not have to write any code in this section or carry out the analysis, but should you do so, there is an opportunity for extra credit upon submission of your final project.<br><br>\n",
        "\n",
        "The example below would get full credit for this assignment _and_ some extra credit (on the final project submission), due to the fact that it correctly includes specific details about multiple regression (a topic beyond what was discussed in class). No points will deducted for mistakes made when attempting to explain an analytical approach beyond what was discussed in class, should you not get it all the way right.<br><br> \n",
        "    \n",
        "<b>__12 pts__</b>\n",
        "</font>\n"
      ]
    },
    {
      "cell_type": "markdown",
      "metadata": {
        "id": "L9sH1KgBcxXT"
      },
      "source": [
        "## <font color=\"#66B032\">Example</font>\n"
      ]
    },
    {
      "cell_type": "markdown",
      "metadata": {
        "id": "0UCErW8Ac1fd"
      },
      "source": [
        "<font color=\"#66B032\">\n",
        "Though we showed some figures to display our results, we want to do some statistical inference. We plan on comparing the proportions across groups:\n",
        "<br><br>\n",
        "```\n",
        "p_swimming_alive = alive_swimming_count / total_swimming_count\n",
        "```\n",
        "<br>\n",
        "```\n",
        "p_athletics_alive = alive_athletics_counts / total_athletics_count\n",
        "```\n",
        "  <br><br>\n",
        "  ```\n",
        " Ho = p_swimming_alive - p_athletics_alive = 0```\n",
        " <br>```Ha = p_swimming_alive - p_athletics_alive > 0\n",
        "```\n",
        "  <br><br>\n",
        "To test these hypotheses we found we can use what's known as the z-test for two proportions. [Click here for a link](https://stattrek.com/hypothesis-test/difference-in-proportions.aspx) to a reference on how to do this test. We also plan to do this test for male and female separately.\n",
        "  \n",
        "We also want to compare the means of age of death for athletics vs. swimming, separating males and females again. We would use a two-sample t-test to do this using the means of the two samples/groups athletics and swimming, as discussed in our class lecture. For now we don't know if the two groups have different variances, so we'll have to check for that, too, before interpreting the t-test.\n",
        "  \n",
        " Lastly, we'd very much like to do a multiple linear regression model that looks roughly like\n",
        "<br>  \n",
        "```\n",
        "age of death = B0 + B1*birth_year + B2*Year + B3*death_year + B4*Age + B5*Height + B6*Weight + B7*Sport + B8*Sex\n",
        "```\n",
        "<br><br>\n",
        " With this, we'd be able to control for the effects of when the athlete was born, which year game they competed in, what year they died, what age they were when they competed, their height and weight when competing, and which sport and sex they were.\n",
        "<br><br>\n",
        "Of course, throughout our statistical analyses our alpha level will be set to 0.05.\n",
        "  \n",
        "<br><br>\n",
        "As for biases, the data are limited to only Olympic athletes who won medals in swimming and athletics. We freed ourselves a little from the bias of only finding athlete ages of death on wikipedia by redoing the wrangling and at least we include living athletes and their ages, in addition to dead athletes as found on wikipedia. The problem with using wikipedia is that more popular/influential people are more likely to have their wikipedia information filled in, but the popularity of athletics vs. swimming has likely varied quite a bit over the years that the Olympics have been recorded. The hope is that athlete popularity did not fluctuate non-randomly for athletics vs. swimming and that the two groups were exposed to random fluctuation equally.\n",
        "\n",
        "  <br><br>\n",
        "Another major issue with our analysis is that it is not an experiment, and is purely correlational. We have no way to prove definitively that running vs. swimming cause changes in life expectancy. It could be other cultural or lifestyle factors around the sports that are affecting life expectancy, and we don't have any additional variables to help with that.\n",
        "  <br><br>\n",
        "  We still have some other considerations to make that we'll include in our final report.\n",
        "</font>"
      ]
    },
    {
      "cell_type": "markdown",
      "metadata": {
        "id": "dSNa9UM-c8fQ"
      },
      "source": [
        "## Answer \n",
        "\n",
        "We showed some figures to display our results and we can further demonstrate them through statistical inference. We are using exploratory data analysis in order to find the relationships between variables in our data set, specifically HDI and GDP rates, and how they affect suicide rates in the countries in our data set. We plan on calculating the correlation between GDP and suicide rates and the correlation between HDI and suicide rates. We planned on using correlation to test our hypothesis because correlation shows how strongly pairs of variables are related. Therefore by using correlation, we get a better picture of how HDI and GPD affect suicide rates and whether this is a strong or weak relationship. \n",
        "\n",
        "To test our hypotheses, we discovered that we can use linear regression to describe the relationships between HDI and suicide rates, as well as between GDP and suicide rates. By using linear regression, we would be able to determine whether changes in HDI or GDP is related to changes in suicide rates. Utilizing a best-fit line would further accentuate the magnitude of the relationship between our dependent and independent variables as measured by the slope of the line. By using linear regression, we would be assuming that there is, in fact, a linear relationship, multivariate normality, no multicollinearity, no auto-correlation, and homoscedasticity. We have shown that we can using a log transformation on some of our data is applicable, for example, we were able to better normalize GDP Per Capita using this. With such a transformation, linear regression is appropriate. However, for our other data that fails to be log normal, we will need to explore other transformation methods, one discussed earlier would be a Quantile Transformer, however, others certainly exist as well.\n",
        "\n",
        "Our linear regression model would look something like:\n",
        "Suicides/100k population = B0 + B1 * country HDI + B1 * country GPD\n",
        "\n",
        "With this, we’d be able to control for the effects of a country’s HDI and GDP.\n",
        "\n",
        "Throughout our statistical analysis, our alpha level would be set at 0.05.\n",
        "\n",
        "In regards to biases, the data was compiled from four distinct datasets which might provide some ambiguity as to how the data was collected and whether overlapping data from the different dataset were identical. Issues might arise from using a dataset compiled from four other datasets because there could exit a higher margin of error for mistakes to be made either in the data extraction or compilation processes. Moreover, since the dataset we utilized comes from different sources, those who compiled the data might have had different measures and practices they used to arrive at the numbers they did, causing some uncertainty on the validity of the dataset as a whole. The hope is that the four contributors to the dataset used similar techniques and logistics by which they obtained their data.\n",
        "\n",
        "Another limitation to our analysis is that it is purely correlational, meaning we cannot prove that lower GPD and HDI lead to higher suicide rates. There are a number of different factors that are not taken into consideration that could lead to either higher suicide rates or lower suicide rates and we are only considering two of them.\n"
      ]
    },
    {
      "cell_type": "markdown",
      "metadata": {
        "id": "dGI-LRAr-KUz"
      },
      "source": [
        "# <font color=\"#347C98\">Summary</font>\n",
        "\n",
        "<font color=\"#347C98\"> \n",
        "Summarize your entire project here in a few paragraphs. <br><br>\n",
        "\n",
        "  Be sure to include:  \n",
        "  - the question you asked  \n",
        "  - what data you used  \n",
        "  - what you learned during your EDA  \n",
        "  - how you would approach analyzing these data  \n",
        "  - what you would expect from this analysis  \n",
        "  - the limitations of this project and analysis   \n",
        "  - a discussion of any possible impact it would have on society.  <br><br>\n",
        "\n",
        "<b>__3 pts__</b>\n",
        "  </font>"
      ]
    },
    {
      "cell_type": "markdown",
      "metadata": {
        "id": "yUpHcC1M-Py3"
      },
      "source": [
        "## <font color=\"#66B032\">Example</font>\n",
        "\n",
        " <font color=\"#66B032\"> In this project, we set out to determine whether or not swimming is a healthier form of exercise than running. To determine this, we turned to historical Olympian data from ~5,000 athletes who have competed in the Olympics in the past 120 years. We compared the age of death of Olympians whose data could be scraped from Wikipedia, comparing athletes who competed in swimming events to those who competed in athletics events. We stratified this analysis  by gender. </font><br><br>\n",
        "  \n",
        "  <font color=\"#66B032\">While our initial hypothesis was that swimming would be a healthier exercise (due to its limited impact on our bodies). during our exploratory data we saw that, if anything, swimming athletes died at a younger age than athletics athletes, suggesting that it is not the healthier sport. </font><br><br>\n",
        "  \n",
        "  <font color=\"#66B032\">To formally answer this question, we would turn to multiple linear regression. In this analysis, if, when controlling for confounders (such as birth year, height, and weight, etc.) we still saw the effect that swimmers tended to die at a younger age, this would suggest that our initial hypothesis was incorrect.</font><br><br>\n",
        "  \n",
        "   <font color=\"#66B032\">However, this analysis has a number of limitations. First, we've scraped data from Wikipedia, so our data are limited to those athletes who are well-known enough to have entries in Wikipedia. Second, we want to note that including what event athletes competed in in our model will be very important. Since we want to know about runners and swimmers, we'd want to only include those athletics who competed in track events (running) rather than those who were field athletes (shotput, pole vault, long jump, etc.). With regards to the data, here we're relying on age of death as a proxy for health. In an ideal world, we'd have a number of direct metrics of health (heart rate, lung capacity, etc.), rather than rely on age of death alone. Additionally, by using these data, we're only establishing correlations. To determine causation, we would need to set up an experiment. </font><br><br>\n",
        "   \n",
        " <font color=\"#66B032\"> This idea of correlation is particularly important when we consider the effects this analysis could have on society. If we were to write up a blog post stating that running is safer than swimming based on this limited analysis that only included a correlational analysis of historical Olympians, this would be incredibly misleading and could lead to parents keeping their children away from swimming, which is surely not a reasonable conclusion to make from this analysis aone. Instead of doing that, this analysis could simply serve a start to further experiments and analyses investigating this question.</font><br><br> "
      ]
    },
    {
      "cell_type": "markdown",
      "metadata": {
        "id": "LkUqOYFi-Urt"
      },
      "source": [
        "## Answer\n",
        "In our project, we sought to discover whether a country’s Human Development Index and Gross Domestic Product had an effect on the country’s suicide rates. To explore this, we utilized a dataset containing 32 years worth of data between 1985-2016 about suicide rates from countries all over the world. \n",
        "\n",
        "We hypothesized that countries with a lower Human Development Index and Gross Domestic Product suffer from more suicides compared to countries with a higher Human Development Index and Gross Domestic Product. We discovered that there was some sort of relationship between a country’s suicide rates and its Human Development Index/Gross Domestic Product. However, the correlation between the two was not strong enough to infer that the Human Development Index/Gross Domestic Product were the primary factors which affected suicide rates.\n",
        "\n",
        "To formally answer our question, we would calculate the correlation between GDP and suicide rates and the correlation between HDI and suicide rates which would demonstrate how strongly our pairs of variables are related. Moreover, we can use linear regression to describe the relationships between HDI and suicide rates, as well as between GDP and suicide rates. By using linear regression, we would be able to determine whether changes in HDI or GDP are related to changes in suicide rates.\n",
        "\n",
        "We are well aware that our analysis has various limitations. Primarily, our dataset is a compilation of 4 datasets which might cause some ambuiguity in regards to data collection practices, overlapping data, and accuracy of the numerical values. Moreover, data extraction and compilation errors might jeopardize the validity of our data set. In an ideal world, we’d have standard data collection practices conducted in all the countries around the world to accurately quantify their suicide rates, Human Development Index, and Gross Domestic Product. Furthermore, our data simply establishes correlations and to determine causation, we would need to design an experiment. \n",
        "\n",
        "This idea of correlation is crucial considering the positive effects that our analysis could have on society. If we were to communicate our findings that suicide rates were, in fact, higher in countries of a lower Human Development Index and Gross Domestic Product based on the minimal analysis we conducted, our case would probably receive some backlash from economic systems around the world for implicating that their financial practices cause suicides amongst its citizens. Rather, this analysis could serve to bring awareness to the suicide rates in every country and promote intervention in countries with higher suicidal rates.\n"
      ]
    },
    {
      "cell_type": "markdown",
      "metadata": {
        "id": "K7Ub4Ql_-cZJ"
      },
      "source": [
        "# <font color=\"#347C98\">Contributions</font>\n",
        "\n",
        "<font color=\"#347C98\"> \n",
        "Dscribe in detail the contributions of each team member, with reference to tasks performed and ideas generated (example below). All team members must agree and state that tasks were divided equitably among team members, and performed at least satisfactorily. As a general guideline, expect this section may need to be a few paragraphs long.<br><br>\n",
        "\n",
        "<b>__2 pts__</b>\n",
        "</font>\n",
        "\n",
        "\n"
      ]
    },
    {
      "cell_type": "markdown",
      "metadata": {
        "id": "esxFQNvz-g4v"
      },
      "source": [
        "## <font color=\"#66B032\">Example</font>\n",
        "\n",
        "<font color=\"#66B032\">  \n",
        "All group members contributed to brainstorming possible topics and honing the data science question when we met. Kim and Demi were responsible for seeking out possible datasets to anaswer our question of interest and were successful in finding 5 possible datasets. Beyonce and Oprah then narrowed down those datasets to the one we eventually used throughout our project. Donald and Demi wrote the code we used to wrangle the dataset; however, each person ran the code and ensured that they understood what the code was accomplishing. Oprah then wrote the explanation portion section on data wrangling, while Donald wrote the description of the dataset that appears in the Introduction. When it came to visualizations, Kim first wrote the code to make the basic visualizations; however, Oprah improved this code for our future submissions to improve the axis labels. For the analysis proposal, Beyonce drafted his thoughts and we all edited to make sure that his ideas were clear and correct. All group members sat down to draft the introduction and conclusion and to proofread our final project. \n",
        "</font>"
      ]
    },
    {
      "cell_type": "markdown",
      "metadata": {
        "id": "Bc-qzre5-hrg"
      },
      "source": [
        "## Answer\n",
        "Throughout the project, the whole group contributed to the analysis of our dataset. Jose went through multiple datasets and chose an appropriate one that would lead to an interesting question. Aurelio came up with the original question and hypothesis as Christopher edited it when it was deemed too general. Aurelio also explained our data source giving a description of where it came from, a brief summary of what's in the dataset, and what we would plan to do with it to conduct an analysis. Jose and Christopher wrote the ethical considerations, making it clear how we would avoid offending anyone and safely store the data.\n",
        "\n",
        "The majority of the code was written by Robert beginning with importing the data. Jose and Aurelio worked together to wrangle the data helping each other with every step. The graphs were coded and explained by Robert and Christopher but after given critiques on them, they were primarily edited by Robert as he added more appropriate graphs and gave the histogram a log transformation. After the majority of the coding was finished Aurelio and Jose made the analysis proposal explaining how we planned to analyze the graphs, what relationships we wanted to find, and how we would test our hypothesis.\n",
        "\n",
        "While finalizing the project Aurelio wrote the background explaining the importance of our question while giving more context behind it. Jose wrote the summary going over our question, the data we used, the exploratory data analysis, and what we would expect out of the analysis. Robert continued to edit the project correcting any mistakes that our TA pointed out as the rest of us continued to go over the project.\n"
      ]
    }
  ]
}